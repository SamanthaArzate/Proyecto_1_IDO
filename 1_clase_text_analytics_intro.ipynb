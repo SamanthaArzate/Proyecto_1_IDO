{
  "cells": [
    {
      "cell_type": "markdown",
      "metadata": {
        "id": "view-in-github",
        "colab_type": "text"
      },
      "source": [
        "<a href=\"https://colab.research.google.com/github/SamanthaArzate/Proyecto_1_IDO/blob/master/1_clase_text_analytics_intro.ipynb\" target=\"_parent\"><img src=\"https://colab.research.google.com/assets/colab-badge.svg\" alt=\"Open In Colab\"/></a>"
      ]
    },
    {
      "cell_type": "markdown",
      "source": [
        "# Un Panorama Básico del Procesamiento y Análisis de Texto"
      ],
      "metadata": {
        "id": "2JH-4_BSDz72"
      }
    },
    {
      "cell_type": "markdown",
      "source": [
        "# Avances\n",
        "\n",
        "* https://platform.openai.com/docs/overview\n"
      ],
      "metadata": {
        "id": "gQOq3mk_zMJi"
      }
    },
    {
      "cell_type": "markdown",
      "source": [
        "# Vínculos a librerías de interés\n",
        "\n",
        "* https://www.nltk.org\n",
        "* https://www.nltk.org/nltk_data/\n",
        "* https://stanfordnlp.github.io/stanza/\n",
        "* https://spacy.io/\n",
        "\n"
      ],
      "metadata": {
        "id": "2jaxDeCfEVbi"
      }
    },
    {
      "cell_type": "markdown",
      "source": [
        "#Funciones básicas de procesamiento de texto"
      ],
      "metadata": {
        "id": "bo1GTlnrpoi5"
      }
    },
    {
      "cell_type": "code",
      "source": [
        "texto = \"   funciones BáSicas de proCesamIento de texto%   \"\n",
        "texto.rstrip()\n",
        "texto.lstrip()\n",
        "texto.strip(\"%\")\n",
        "texto = texto.replace(\"á\", \"a\").strip()\n",
        "texto.capitalize()\n",
        "texto.upper()\n",
        "lista = [\"Funciones\", \"BáSicas\", \"de\", \"proCesamIento\", \"de\", \"texto\"]\n",
        "frase = \" \".join(lista)\n",
        "frase.split()"
      ],
      "metadata": {
        "colab": {
          "base_uri": "https://localhost:8080/"
        },
        "id": "nLX-Jmb_poaK",
        "outputId": "51f32008-8e51-4545-8a6b-1b5b2259649b"
      },
      "execution_count": null,
      "outputs": [
        {
          "output_type": "execute_result",
          "data": {
            "text/plain": [
              "['Funciones', 'BáSicas', 'de', 'proCesamIento', 'de', 'texto']"
            ]
          },
          "metadata": {},
          "execution_count": 1
        }
      ]
    },
    {
      "cell_type": "markdown",
      "source": [
        "\n",
        "\n",
        "#Librerías, modelos y lenguajes\n",
        "\n"
      ],
      "metadata": {
        "id": "NkHbGMUhODQK"
      }
    },
    {
      "cell_type": "code",
      "execution_count": null,
      "metadata": {
        "id": "UHMv3plCI-Dm",
        "colab": {
          "base_uri": "https://localhost:8080/"
        },
        "outputId": "1862a291-a95c-448e-d02e-9d3a3b0a150e"
      },
      "outputs": [
        {
          "output_type": "stream",
          "name": "stdout",
          "text": [
            "2024-02-01 02:09:04.232488: E external/local_xla/xla/stream_executor/cuda/cuda_dnn.cc:9261] Unable to register cuDNN factory: Attempting to register factory for plugin cuDNN when one has already been registered\n",
            "2024-02-01 02:09:04.232561: E external/local_xla/xla/stream_executor/cuda/cuda_fft.cc:607] Unable to register cuFFT factory: Attempting to register factory for plugin cuFFT when one has already been registered\n",
            "2024-02-01 02:09:04.234797: E external/local_xla/xla/stream_executor/cuda/cuda_blas.cc:1515] Unable to register cuBLAS factory: Attempting to register factory for plugin cuBLAS when one has already been registered\n",
            "2024-02-01 02:09:05.503005: W tensorflow/compiler/tf2tensorrt/utils/py_utils.cc:38] TF-TRT Warning: Could not find TensorRT\n",
            "Collecting es-core-news-sm==3.6.0\n",
            "  Downloading https://github.com/explosion/spacy-models/releases/download/es_core_news_sm-3.6.0/es_core_news_sm-3.6.0-py3-none-any.whl (12.9 MB)\n",
            "\u001b[2K     \u001b[90m━━━━━━━━━━━━━━━━━━━━━━━━━━━━━━━━━━━━━━━━\u001b[0m \u001b[32m12.9/12.9 MB\u001b[0m \u001b[31m27.3 MB/s\u001b[0m eta \u001b[36m0:00:00\u001b[0m\n",
            "\u001b[?25hRequirement already satisfied: spacy<3.7.0,>=3.6.0 in /usr/local/lib/python3.10/dist-packages (from es-core-news-sm==3.6.0) (3.6.1)\n",
            "Requirement already satisfied: spacy-legacy<3.1.0,>=3.0.11 in /usr/local/lib/python3.10/dist-packages (from spacy<3.7.0,>=3.6.0->es-core-news-sm==3.6.0) (3.0.12)\n",
            "Requirement already satisfied: spacy-loggers<2.0.0,>=1.0.0 in /usr/local/lib/python3.10/dist-packages (from spacy<3.7.0,>=3.6.0->es-core-news-sm==3.6.0) (1.0.5)\n",
            "Requirement already satisfied: murmurhash<1.1.0,>=0.28.0 in /usr/local/lib/python3.10/dist-packages (from spacy<3.7.0,>=3.6.0->es-core-news-sm==3.6.0) (1.0.10)\n",
            "Requirement already satisfied: cymem<2.1.0,>=2.0.2 in /usr/local/lib/python3.10/dist-packages (from spacy<3.7.0,>=3.6.0->es-core-news-sm==3.6.0) (2.0.8)\n",
            "Requirement already satisfied: preshed<3.1.0,>=3.0.2 in /usr/local/lib/python3.10/dist-packages (from spacy<3.7.0,>=3.6.0->es-core-news-sm==3.6.0) (3.0.9)\n",
            "Requirement already satisfied: thinc<8.2.0,>=8.1.8 in /usr/local/lib/python3.10/dist-packages (from spacy<3.7.0,>=3.6.0->es-core-news-sm==3.6.0) (8.1.12)\n",
            "Requirement already satisfied: wasabi<1.2.0,>=0.9.1 in /usr/local/lib/python3.10/dist-packages (from spacy<3.7.0,>=3.6.0->es-core-news-sm==3.6.0) (1.1.2)\n",
            "Requirement already satisfied: srsly<3.0.0,>=2.4.3 in /usr/local/lib/python3.10/dist-packages (from spacy<3.7.0,>=3.6.0->es-core-news-sm==3.6.0) (2.4.8)\n",
            "Requirement already satisfied: catalogue<2.1.0,>=2.0.6 in /usr/local/lib/python3.10/dist-packages (from spacy<3.7.0,>=3.6.0->es-core-news-sm==3.6.0) (2.0.10)\n",
            "Requirement already satisfied: typer<0.10.0,>=0.3.0 in /usr/local/lib/python3.10/dist-packages (from spacy<3.7.0,>=3.6.0->es-core-news-sm==3.6.0) (0.9.0)\n",
            "Requirement already satisfied: pathy>=0.10.0 in /usr/local/lib/python3.10/dist-packages (from spacy<3.7.0,>=3.6.0->es-core-news-sm==3.6.0) (0.11.0)\n",
            "Requirement already satisfied: smart-open<7.0.0,>=5.2.1 in /usr/local/lib/python3.10/dist-packages (from spacy<3.7.0,>=3.6.0->es-core-news-sm==3.6.0) (6.4.0)\n",
            "Requirement already satisfied: tqdm<5.0.0,>=4.38.0 in /usr/local/lib/python3.10/dist-packages (from spacy<3.7.0,>=3.6.0->es-core-news-sm==3.6.0) (4.66.1)\n",
            "Requirement already satisfied: numpy>=1.15.0 in /usr/local/lib/python3.10/dist-packages (from spacy<3.7.0,>=3.6.0->es-core-news-sm==3.6.0) (1.23.5)\n",
            "Requirement already satisfied: requests<3.0.0,>=2.13.0 in /usr/local/lib/python3.10/dist-packages (from spacy<3.7.0,>=3.6.0->es-core-news-sm==3.6.0) (2.31.0)\n",
            "Requirement already satisfied: pydantic!=1.8,!=1.8.1,<3.0.0,>=1.7.4 in /usr/local/lib/python3.10/dist-packages (from spacy<3.7.0,>=3.6.0->es-core-news-sm==3.6.0) (1.10.14)\n",
            "Requirement already satisfied: jinja2 in /usr/local/lib/python3.10/dist-packages (from spacy<3.7.0,>=3.6.0->es-core-news-sm==3.6.0) (3.1.3)\n",
            "Requirement already satisfied: setuptools in /usr/local/lib/python3.10/dist-packages (from spacy<3.7.0,>=3.6.0->es-core-news-sm==3.6.0) (67.7.2)\n",
            "Requirement already satisfied: packaging>=20.0 in /usr/local/lib/python3.10/dist-packages (from spacy<3.7.0,>=3.6.0->es-core-news-sm==3.6.0) (23.2)\n",
            "Requirement already satisfied: langcodes<4.0.0,>=3.2.0 in /usr/local/lib/python3.10/dist-packages (from spacy<3.7.0,>=3.6.0->es-core-news-sm==3.6.0) (3.3.0)\n",
            "Requirement already satisfied: pathlib-abc==0.1.1 in /usr/local/lib/python3.10/dist-packages (from pathy>=0.10.0->spacy<3.7.0,>=3.6.0->es-core-news-sm==3.6.0) (0.1.1)\n",
            "Requirement already satisfied: typing-extensions>=4.2.0 in /usr/local/lib/python3.10/dist-packages (from pydantic!=1.8,!=1.8.1,<3.0.0,>=1.7.4->spacy<3.7.0,>=3.6.0->es-core-news-sm==3.6.0) (4.5.0)\n",
            "Requirement already satisfied: charset-normalizer<4,>=2 in /usr/local/lib/python3.10/dist-packages (from requests<3.0.0,>=2.13.0->spacy<3.7.0,>=3.6.0->es-core-news-sm==3.6.0) (3.3.2)\n",
            "Requirement already satisfied: idna<4,>=2.5 in /usr/local/lib/python3.10/dist-packages (from requests<3.0.0,>=2.13.0->spacy<3.7.0,>=3.6.0->es-core-news-sm==3.6.0) (3.6)\n",
            "Requirement already satisfied: urllib3<3,>=1.21.1 in /usr/local/lib/python3.10/dist-packages (from requests<3.0.0,>=2.13.0->spacy<3.7.0,>=3.6.0->es-core-news-sm==3.6.0) (2.0.7)\n",
            "Requirement already satisfied: certifi>=2017.4.17 in /usr/local/lib/python3.10/dist-packages (from requests<3.0.0,>=2.13.0->spacy<3.7.0,>=3.6.0->es-core-news-sm==3.6.0) (2023.11.17)\n",
            "Requirement already satisfied: blis<0.8.0,>=0.7.8 in /usr/local/lib/python3.10/dist-packages (from thinc<8.2.0,>=8.1.8->spacy<3.7.0,>=3.6.0->es-core-news-sm==3.6.0) (0.7.11)\n",
            "Requirement already satisfied: confection<1.0.0,>=0.0.1 in /usr/local/lib/python3.10/dist-packages (from thinc<8.2.0,>=8.1.8->spacy<3.7.0,>=3.6.0->es-core-news-sm==3.6.0) (0.1.4)\n",
            "Requirement already satisfied: click<9.0.0,>=7.1.1 in /usr/local/lib/python3.10/dist-packages (from typer<0.10.0,>=0.3.0->spacy<3.7.0,>=3.6.0->es-core-news-sm==3.6.0) (8.1.7)\n",
            "Requirement already satisfied: MarkupSafe>=2.0 in /usr/local/lib/python3.10/dist-packages (from jinja2->spacy<3.7.0,>=3.6.0->es-core-news-sm==3.6.0) (2.1.4)\n",
            "Installing collected packages: es-core-news-sm\n",
            "Successfully installed es-core-news-sm-3.6.0\n",
            "\u001b[38;5;2m✔ Download and installation successful\u001b[0m\n",
            "You can now load the package via spacy.load('es_core_news_sm')\n"
          ]
        }
      ],
      "source": [
        "import nltk\n",
        "import spacy\n",
        "import numpy as np\n",
        "import pandas as pd\n",
        "import matplotlib.pyplot as plt\n",
        "\n",
        "#!python -m spacy download en_core_web_sm\n",
        "!python -m spacy download es_core_news_sm\n",
        "#https://spacy.io/usage/models\n",
        "#nlp = spacy.load(\"en_core_web_sm\")\n",
        "nlp = spacy.load(\"es_core_news_sm\")"
      ]
    },
    {
      "cell_type": "markdown",
      "source": [
        "# Raíz (Stem):\n",
        "Basado en reglas simples. Es rápido, pero inexacto"
      ],
      "metadata": {
        "id": "7EtmTJzOI7Z5"
      }
    },
    {
      "cell_type": "code",
      "source": [
        "from nltk.stem import SnowballStemmer, PorterStemmer\n",
        "\n",
        "texto_ing = \"My account keeps getting locked, their accounts got locked yesterday, so everyone's access was denied. I am having a terrible day, I'm better off sleeping.\"\n",
        "texto_esp = \"Mi cuenta se sigue bloqueando, sus cuentas se bloquearon ayer, entonces se le nego el acceso a todos. Estoy teniendo un día terrible, estaría mejor durmiendo\"\n",
        "\n",
        "def text_stemmer(texto, tipo, lenguaje):\n",
        "  if tipo == \"snowball\":\n",
        "    stemmer = SnowballStemmer(lenguaje)\n",
        "  else:\n",
        "    stemmer = PorterStemmer()\n",
        "  texto = \" \".join([stemmer.stem(palabra) for palabra in texto.split()])\n",
        "  return texto\n",
        "\n",
        "print(text_stemmer(texto_ing, \"snowball\", \"english\"))\n",
        "print(text_stemmer(texto_ing, \"porter\", \"english\"))\n",
        "print(text_stemmer(texto_esp, \"snowball\", \"spanish\"))\n",
        "print(text_stemmer(texto_esp, \"porter\", \"spanish\"))\n"
      ],
      "metadata": {
        "id": "JsAxFo-OI7Ni",
        "colab": {
          "base_uri": "https://localhost:8080/"
        },
        "outputId": "3e590583-4520-4a50-e63e-518248a06431"
      },
      "execution_count": null,
      "outputs": [
        {
          "output_type": "stream",
          "name": "stdout",
          "text": [
            "my account keep get locked, their account got lock yesterday, so everyon access was denied. i am have a terribl day, i'm better off sleeping.\n",
            "my account keep get locked, their account got lock yesterday, so everyone' access wa denied. i am have a terribl day, i'm better off sleeping.\n",
            "mi cuent se sig bloqueando, sus cuent se bloqu ayer, entonc se le neg el acces a todos. estoy ten un dia terrible, estar mejor durm\n",
            "mi cuenta se sigu bloqueando, su cuenta se bloquearon ayer, entonc se le nego el acceso a todos. estoy teniendo un día terrible, estaría mejor durmiendo\n"
          ]
        }
      ]
    },
    {
      "cell_type": "markdown",
      "source": [
        "#Lemas\n",
        "Basado en dicionarios y/o análisis morfológico. Es lento, pero exacto"
      ],
      "metadata": {
        "id": "nSW9_PWhjlxV"
      }
    },
    {
      "cell_type": "code",
      "source": [
        "texto_ing = \"My account keeps getting locked, their accounts got locked yesterday, so everyone's access was denied. I am having a terrible day, I'm better off sleeping.\"\n",
        "texto_esp = \"Mi cuenta se sigue bloqueando, sus cuentas se bloquearon ayer, entonces se le nego el acceso a todos. Estoy teniendo un día terrible, estaría mejor durmiendo\"\n",
        "\n",
        "def text_lemmatizer(texto):\n",
        "  texto = nlp(texto)\n",
        "  texto =  \" \".join([palabra.lemma_ for palabra in texto])\n",
        "  return texto\n",
        "\n",
        "print(texto_esp)\n",
        "#print(text_stemmer(texto_ing, \"snowball\", \"english\"))\n",
        "#print(text_stemmer(texto_ing, \"porter\", \"english\"))\n",
        "print(text_lemmatizer(texto_esp))"
      ],
      "metadata": {
        "id": "I-TEqoaZgQQE",
        "colab": {
          "base_uri": "https://localhost:8080/"
        },
        "outputId": "afc46d42-a97d-4e96-b21b-f6fe63504ca8"
      },
      "execution_count": null,
      "outputs": [
        {
          "output_type": "stream",
          "name": "stdout",
          "text": [
            "Mi cuenta se sigue bloqueando, sus cuentas se bloquearon ayer, entonces se le nego el acceso a todos. Estoy teniendo un día terrible, estaría mejor durmiendo\n",
            "mi cuenta él seguir bloquear , su cuenta él bloquear ayer , entonces él él negar el acceso a todo . estar tener uno día terrible , estar mejor dormir\n"
          ]
        }
      ]
    },
    {
      "cell_type": "markdown",
      "source": [
        "#Sintáxis y Estructura"
      ],
      "metadata": {
        "id": "52711gH6OU5c"
      }
    },
    {
      "cell_type": "code",
      "execution_count": null,
      "metadata": {
        "id": "ZVeV0M_kI-Dp"
      },
      "outputs": [],
      "source": [
        "sentencia = \"The black cat is quick and it is jumping over the friendly dog\""
      ]
    },
    {
      "cell_type": "markdown",
      "source": [
        "# Palabras anotadas \"Parts of Speech\" con nltk"
      ],
      "metadata": {
        "id": "UmrzCVuiShqc"
      }
    },
    {
      "cell_type": "code",
      "execution_count": null,
      "metadata": {
        "id": "tqccOv5cI-Dq",
        "colab": {
          "base_uri": "https://localhost:8080/"
        },
        "outputId": "d2e1ddab-89f3-460a-b840-6876b91056f0"
      },
      "outputs": [
        {
          "output_type": "stream",
          "name": "stderr",
          "text": [
            "[nltk_data] Downloading package averaged_perceptron_tagger to\n",
            "[nltk_data]     /root/nltk_data...\n",
            "[nltk_data]   Unzipping taggers/averaged_perceptron_tagger.zip.\n"
          ]
        },
        {
          "output_type": "execute_result",
          "data": {
            "text/plain": [
              "[('The', 'DT'),\n",
              " ('black', 'JJ'),\n",
              " ('cat', 'NN'),\n",
              " ('is', 'VBZ'),\n",
              " ('quick', 'JJ'),\n",
              " ('and', 'CC'),\n",
              " ('it', 'PRP'),\n",
              " ('is', 'VBZ'),\n",
              " ('jumping', 'VBG'),\n",
              " ('over', 'IN'),\n",
              " ('the', 'DT'),\n",
              " ('friendly', 'JJ'),\n",
              " ('dog', 'NN')]"
            ]
          },
          "metadata": {},
          "execution_count": 6
        }
      ],
      "source": [
        "nltk.download(\"averaged_perceptron_tagger\")\n",
        "etiquetas_pos = nltk.pos_tag(sentencia.split())\n",
        "etiquetas_pos"
      ]
    },
    {
      "cell_type": "markdown",
      "source": [
        "# Palabras anotadas \"Parts of Speech\" con spacy"
      ],
      "metadata": {
        "id": "pjzlq7OyaNUM"
      }
    },
    {
      "cell_type": "code",
      "execution_count": null,
      "metadata": {
        "id": "4IRbTGTFI-Dq",
        "colab": {
          "base_uri": "https://localhost:8080/"
        },
        "outputId": "61b8ef56-6b9a-4112-d9b4-c8e5fbbdcbc1"
      },
      "outputs": [
        {
          "output_type": "execute_result",
          "data": {
            "text/plain": [
              "[(The, 'PROPN'),\n",
              " (black, 'PROPN'),\n",
              " (cat, 'PROPN'),\n",
              " (is, 'PROPN'),\n",
              " (quick, 'PROPN'),\n",
              " (and, 'PROPN'),\n",
              " (it, 'PROPN'),\n",
              " (is, 'PROPN'),\n",
              " (jumping, 'PROPN'),\n",
              " (over, 'VERB'),\n",
              " (the, 'PROPN'),\n",
              " (friendly, 'PROPN'),\n",
              " (dog, 'PROPN')]"
            ]
          },
          "metadata": {},
          "execution_count": 7
        }
      ],
      "source": [
        "spacy_etiquetas_pos = [(palabra, palabra.pos_) for palabra in nlp(sentencia)]\n",
        "spacy_etiquetas_pos"
      ]
    },
    {
      "cell_type": "code",
      "source": [
        "spacy.explain(\"ADJ\")"
      ],
      "metadata": {
        "id": "9ULKqlKqRcm4",
        "colab": {
          "base_uri": "https://localhost:8080/",
          "height": 36
        },
        "outputId": "d01b1c3c-d99a-4b67-e7be-7487f0eac595"
      },
      "execution_count": null,
      "outputs": [
        {
          "output_type": "execute_result",
          "data": {
            "text/plain": [
              "'adjective'"
            ],
            "application/vnd.google.colaboratory.intrinsic+json": {
              "type": "string"
            }
          },
          "metadata": {},
          "execution_count": 8
        }
      ]
    },
    {
      "cell_type": "markdown",
      "source": [
        "#Shallow parsing: palabras ⟵ frases ⟵ cláusulas ⟵ sentencias\n",
        "\n",
        "\n",
        "\n",
        "\n"
      ],
      "metadata": {
        "id": "_KTBbM7gTdgK"
      }
    },
    {
      "cell_type": "code",
      "execution_count": null,
      "metadata": {
        "id": "ARfgiLWsI-Dq",
        "colab": {
          "base_uri": "https://localhost:8080/"
        },
        "outputId": "f57260d4-4c13-49ce-a43e-36c24044c643"
      },
      "outputs": [
        {
          "output_type": "stream",
          "name": "stdout",
          "text": [
            "(S\n",
            "  (NP The/DT black/JJ cat/NN)\n",
            "  (VP is/VBZ)\n",
            "  (ADJP quick/JJ)\n",
            "  and/CC\n",
            "  it/PRP\n",
            "  (VP is/VBZ jumping/VBG)\n",
            "  (PP over/IN)\n",
            "  (NP the/DT friendly/JJ dog/NN))\n"
          ]
        }
      ],
      "source": [
        "gramatica = \"\"\" NP: {<DT>?<JJ>?<NN.*>}\n",
        "                ADJP: {<JJ>}\n",
        "                ADVP: {<RB.*>}\n",
        "                PP: {<IN>}\n",
        "                VP: {<MD>?<VB.*>+}\"\"\"\n",
        "\n",
        "sentencia_etiquetada = nltk.pos_tag(sentencia.split())\n",
        "rp = nltk.RegexpParser(gramatica)\n",
        "sentencia_parseada = rp.parse(sentencia_etiquetada)\n",
        "print(sentencia_parseada)"
      ]
    },
    {
      "cell_type": "code",
      "execution_count": null,
      "metadata": {
        "id": "-7mEz8uJI-Dr",
        "colab": {
          "base_uri": "https://localhost:8080/"
        },
        "outputId": "2e9065bc-225b-4b5a-c11a-b9b086880761"
      },
      "outputs": [
        {
          "output_type": "stream",
          "name": "stdout",
          "text": [
            "Collecting svgling\n",
            "  Downloading svgling-0.4.0-py3-none-any.whl (23 kB)\n",
            "Collecting svgwrite (from svgling)\n",
            "  Downloading svgwrite-1.4.3-py3-none-any.whl (67 kB)\n",
            "\u001b[2K     \u001b[90m━━━━━━━━━━━━━━━━━━━━━━━━━━━━━━━━━━━━━━━━\u001b[0m \u001b[32m67.1/67.1 kB\u001b[0m \u001b[31m1.7 MB/s\u001b[0m eta \u001b[36m0:00:00\u001b[0m\n",
            "\u001b[?25hInstalling collected packages: svgwrite, svgling\n",
            "Successfully installed svgling-0.4.0 svgwrite-1.4.3\n"
          ]
        }
      ],
      "source": [
        "!pip install svgling"
      ]
    },
    {
      "cell_type": "code",
      "execution_count": null,
      "metadata": {
        "id": "-gediCf6I-Ds",
        "colab": {
          "base_uri": "https://localhost:8080/",
          "height": 478
        },
        "outputId": "1674d443-b3cd-4acc-d937-e86755904e79"
      },
      "outputs": [
        {
          "output_type": "display_data",
          "data": {
            "text/plain": [
              "<IPython.core.display.HTML object>"
            ],
            "text/html": [
              "<span class=\"tex2jax_ignore\"><svg xmlns=\"http://www.w3.org/2000/svg\" xmlns:xlink=\"http://www.w3.org/1999/xlink\" xml:lang=\"es\" id=\"519dbcce3b3f4735bdaae1d4e880093d-0\" class=\"displacy\" width=\"1350\" height=\"436.5\" direction=\"ltr\" style=\"max-width: none; height: 436.5px; color: #000000; background: #ffffff; font-family: Arial; direction: ltr\">\n",
              "<text class=\"displacy-token\" fill=\"currentColor\" text-anchor=\"middle\" y=\"346.5\">\n",
              "    <tspan class=\"displacy-word\" fill=\"currentColor\" x=\"50\">The</tspan>\n",
              "    <tspan class=\"displacy-tag\" dy=\"2em\" fill=\"currentColor\" x=\"50\">PROPN</tspan>\n",
              "</text>\n",
              "\n",
              "<text class=\"displacy-token\" fill=\"currentColor\" text-anchor=\"middle\" y=\"346.5\">\n",
              "    <tspan class=\"displacy-word\" fill=\"currentColor\" x=\"150\">black</tspan>\n",
              "    <tspan class=\"displacy-tag\" dy=\"2em\" fill=\"currentColor\" x=\"150\">PROPN</tspan>\n",
              "</text>\n",
              "\n",
              "<text class=\"displacy-token\" fill=\"currentColor\" text-anchor=\"middle\" y=\"346.5\">\n",
              "    <tspan class=\"displacy-word\" fill=\"currentColor\" x=\"250\">cat</tspan>\n",
              "    <tspan class=\"displacy-tag\" dy=\"2em\" fill=\"currentColor\" x=\"250\">PROPN</tspan>\n",
              "</text>\n",
              "\n",
              "<text class=\"displacy-token\" fill=\"currentColor\" text-anchor=\"middle\" y=\"346.5\">\n",
              "    <tspan class=\"displacy-word\" fill=\"currentColor\" x=\"350\">is</tspan>\n",
              "    <tspan class=\"displacy-tag\" dy=\"2em\" fill=\"currentColor\" x=\"350\">PROPN</tspan>\n",
              "</text>\n",
              "\n",
              "<text class=\"displacy-token\" fill=\"currentColor\" text-anchor=\"middle\" y=\"346.5\">\n",
              "    <tspan class=\"displacy-word\" fill=\"currentColor\" x=\"450\">quick</tspan>\n",
              "    <tspan class=\"displacy-tag\" dy=\"2em\" fill=\"currentColor\" x=\"450\">PROPN</tspan>\n",
              "</text>\n",
              "\n",
              "<text class=\"displacy-token\" fill=\"currentColor\" text-anchor=\"middle\" y=\"346.5\">\n",
              "    <tspan class=\"displacy-word\" fill=\"currentColor\" x=\"550\">and</tspan>\n",
              "    <tspan class=\"displacy-tag\" dy=\"2em\" fill=\"currentColor\" x=\"550\">PROPN</tspan>\n",
              "</text>\n",
              "\n",
              "<text class=\"displacy-token\" fill=\"currentColor\" text-anchor=\"middle\" y=\"346.5\">\n",
              "    <tspan class=\"displacy-word\" fill=\"currentColor\" x=\"650\">it</tspan>\n",
              "    <tspan class=\"displacy-tag\" dy=\"2em\" fill=\"currentColor\" x=\"650\">PROPN</tspan>\n",
              "</text>\n",
              "\n",
              "<text class=\"displacy-token\" fill=\"currentColor\" text-anchor=\"middle\" y=\"346.5\">\n",
              "    <tspan class=\"displacy-word\" fill=\"currentColor\" x=\"750\">is</tspan>\n",
              "    <tspan class=\"displacy-tag\" dy=\"2em\" fill=\"currentColor\" x=\"750\">PROPN</tspan>\n",
              "</text>\n",
              "\n",
              "<text class=\"displacy-token\" fill=\"currentColor\" text-anchor=\"middle\" y=\"346.5\">\n",
              "    <tspan class=\"displacy-word\" fill=\"currentColor\" x=\"850\">jumping</tspan>\n",
              "    <tspan class=\"displacy-tag\" dy=\"2em\" fill=\"currentColor\" x=\"850\">PROPN</tspan>\n",
              "</text>\n",
              "\n",
              "<text class=\"displacy-token\" fill=\"currentColor\" text-anchor=\"middle\" y=\"346.5\">\n",
              "    <tspan class=\"displacy-word\" fill=\"currentColor\" x=\"950\">over</tspan>\n",
              "    <tspan class=\"displacy-tag\" dy=\"2em\" fill=\"currentColor\" x=\"950\">VERB</tspan>\n",
              "</text>\n",
              "\n",
              "<text class=\"displacy-token\" fill=\"currentColor\" text-anchor=\"middle\" y=\"346.5\">\n",
              "    <tspan class=\"displacy-word\" fill=\"currentColor\" x=\"1050\">the</tspan>\n",
              "    <tspan class=\"displacy-tag\" dy=\"2em\" fill=\"currentColor\" x=\"1050\">PROPN</tspan>\n",
              "</text>\n",
              "\n",
              "<text class=\"displacy-token\" fill=\"currentColor\" text-anchor=\"middle\" y=\"346.5\">\n",
              "    <tspan class=\"displacy-word\" fill=\"currentColor\" x=\"1150\">friendly</tspan>\n",
              "    <tspan class=\"displacy-tag\" dy=\"2em\" fill=\"currentColor\" x=\"1150\">PROPN</tspan>\n",
              "</text>\n",
              "\n",
              "<text class=\"displacy-token\" fill=\"currentColor\" text-anchor=\"middle\" y=\"346.5\">\n",
              "    <tspan class=\"displacy-word\" fill=\"currentColor\" x=\"1250\">dog</tspan>\n",
              "    <tspan class=\"displacy-tag\" dy=\"2em\" fill=\"currentColor\" x=\"1250\">PROPN</tspan>\n",
              "</text>\n",
              "\n",
              "<g class=\"displacy-arrow\">\n",
              "    <path class=\"displacy-arc\" id=\"arrow-519dbcce3b3f4735bdaae1d4e880093d-0-0\" stroke-width=\"1.5px\" d=\"M70,301.5 C70,1.5 750.0,1.5 750.0,301.5\" fill=\"none\" stroke=\"currentColor\"/>\n",
              "    <text dy=\"1.25em\" style=\"font-size: 0.8em; letter-spacing: 1px\">\n",
              "        <textPath xlink:href=\"#arrow-519dbcce3b3f4735bdaae1d4e880093d-0-0\" class=\"displacy-label\" startOffset=\"50%\" side=\"left\" fill=\"currentColor\" text-anchor=\"middle\">nsubj</textPath>\n",
              "    </text>\n",
              "    <path class=\"displacy-arrowhead\" d=\"M70,303.5 L64,293.5 76,293.5\" fill=\"currentColor\"/>\n",
              "</g>\n",
              "\n",
              "<g class=\"displacy-arrow\">\n",
              "    <path class=\"displacy-arc\" id=\"arrow-519dbcce3b3f4735bdaae1d4e880093d-0-1\" stroke-width=\"1.5px\" d=\"M70,301.5 C70,251.5 125.0,251.5 125.0,301.5\" fill=\"none\" stroke=\"currentColor\"/>\n",
              "    <text dy=\"1.25em\" style=\"font-size: 0.8em; letter-spacing: 1px\">\n",
              "        <textPath xlink:href=\"#arrow-519dbcce3b3f4735bdaae1d4e880093d-0-1\" class=\"displacy-label\" startOffset=\"50%\" side=\"left\" fill=\"currentColor\" text-anchor=\"middle\">flat</textPath>\n",
              "    </text>\n",
              "    <path class=\"displacy-arrowhead\" d=\"M125.0,303.5 L131.0,293.5 119.0,293.5\" fill=\"currentColor\"/>\n",
              "</g>\n",
              "\n",
              "<g class=\"displacy-arrow\">\n",
              "    <path class=\"displacy-arc\" id=\"arrow-519dbcce3b3f4735bdaae1d4e880093d-0-2\" stroke-width=\"1.5px\" d=\"M70,301.5 C70,201.5 230.0,201.5 230.0,301.5\" fill=\"none\" stroke=\"currentColor\"/>\n",
              "    <text dy=\"1.25em\" style=\"font-size: 0.8em; letter-spacing: 1px\">\n",
              "        <textPath xlink:href=\"#arrow-519dbcce3b3f4735bdaae1d4e880093d-0-2\" class=\"displacy-label\" startOffset=\"50%\" side=\"left\" fill=\"currentColor\" text-anchor=\"middle\">flat</textPath>\n",
              "    </text>\n",
              "    <path class=\"displacy-arrowhead\" d=\"M230.0,303.5 L236.0,293.5 224.0,293.5\" fill=\"currentColor\"/>\n",
              "</g>\n",
              "\n",
              "<g class=\"displacy-arrow\">\n",
              "    <path class=\"displacy-arc\" id=\"arrow-519dbcce3b3f4735bdaae1d4e880093d-0-3\" stroke-width=\"1.5px\" d=\"M70,301.5 C70,151.5 335.0,151.5 335.0,301.5\" fill=\"none\" stroke=\"currentColor\"/>\n",
              "    <text dy=\"1.25em\" style=\"font-size: 0.8em; letter-spacing: 1px\">\n",
              "        <textPath xlink:href=\"#arrow-519dbcce3b3f4735bdaae1d4e880093d-0-3\" class=\"displacy-label\" startOffset=\"50%\" side=\"left\" fill=\"currentColor\" text-anchor=\"middle\">flat</textPath>\n",
              "    </text>\n",
              "    <path class=\"displacy-arrowhead\" d=\"M335.0,303.5 L341.0,293.5 329.0,293.5\" fill=\"currentColor\"/>\n",
              "</g>\n",
              "\n",
              "<g class=\"displacy-arrow\">\n",
              "    <path class=\"displacy-arc\" id=\"arrow-519dbcce3b3f4735bdaae1d4e880093d-0-4\" stroke-width=\"1.5px\" d=\"M70,301.5 C70,101.5 440.0,101.5 440.0,301.5\" fill=\"none\" stroke=\"currentColor\"/>\n",
              "    <text dy=\"1.25em\" style=\"font-size: 0.8em; letter-spacing: 1px\">\n",
              "        <textPath xlink:href=\"#arrow-519dbcce3b3f4735bdaae1d4e880093d-0-4\" class=\"displacy-label\" startOffset=\"50%\" side=\"left\" fill=\"currentColor\" text-anchor=\"middle\">flat</textPath>\n",
              "    </text>\n",
              "    <path class=\"displacy-arrowhead\" d=\"M440.0,303.5 L446.0,293.5 434.0,293.5\" fill=\"currentColor\"/>\n",
              "</g>\n",
              "\n",
              "<g class=\"displacy-arrow\">\n",
              "    <path class=\"displacy-arc\" id=\"arrow-519dbcce3b3f4735bdaae1d4e880093d-0-5\" stroke-width=\"1.5px\" d=\"M70,301.5 C70,51.5 545.0,51.5 545.0,301.5\" fill=\"none\" stroke=\"currentColor\"/>\n",
              "    <text dy=\"1.25em\" style=\"font-size: 0.8em; letter-spacing: 1px\">\n",
              "        <textPath xlink:href=\"#arrow-519dbcce3b3f4735bdaae1d4e880093d-0-5\" class=\"displacy-label\" startOffset=\"50%\" side=\"left\" fill=\"currentColor\" text-anchor=\"middle\">flat</textPath>\n",
              "    </text>\n",
              "    <path class=\"displacy-arrowhead\" d=\"M545.0,303.5 L551.0,293.5 539.0,293.5\" fill=\"currentColor\"/>\n",
              "</g>\n",
              "\n",
              "<g class=\"displacy-arrow\">\n",
              "    <path class=\"displacy-arc\" id=\"arrow-519dbcce3b3f4735bdaae1d4e880093d-0-6\" stroke-width=\"1.5px\" d=\"M670,301.5 C670,251.5 725.0,251.5 725.0,301.5\" fill=\"none\" stroke=\"currentColor\"/>\n",
              "    <text dy=\"1.25em\" style=\"font-size: 0.8em; letter-spacing: 1px\">\n",
              "        <textPath xlink:href=\"#arrow-519dbcce3b3f4735bdaae1d4e880093d-0-6\" class=\"displacy-label\" startOffset=\"50%\" side=\"left\" fill=\"currentColor\" text-anchor=\"middle\">case</textPath>\n",
              "    </text>\n",
              "    <path class=\"displacy-arrowhead\" d=\"M670,303.5 L664,293.5 676,293.5\" fill=\"currentColor\"/>\n",
              "</g>\n",
              "\n",
              "<g class=\"displacy-arrow\">\n",
              "    <path class=\"displacy-arc\" id=\"arrow-519dbcce3b3f4735bdaae1d4e880093d-0-7\" stroke-width=\"1.5px\" d=\"M770,301.5 C770,251.5 825.0,251.5 825.0,301.5\" fill=\"none\" stroke=\"currentColor\"/>\n",
              "    <text dy=\"1.25em\" style=\"font-size: 0.8em; letter-spacing: 1px\">\n",
              "        <textPath xlink:href=\"#arrow-519dbcce3b3f4735bdaae1d4e880093d-0-7\" class=\"displacy-label\" startOffset=\"50%\" side=\"left\" fill=\"currentColor\" text-anchor=\"middle\">flat</textPath>\n",
              "    </text>\n",
              "    <path class=\"displacy-arrowhead\" d=\"M825.0,303.5 L831.0,293.5 819.0,293.5\" fill=\"currentColor\"/>\n",
              "</g>\n",
              "\n",
              "<g class=\"displacy-arrow\">\n",
              "    <path class=\"displacy-arc\" id=\"arrow-519dbcce3b3f4735bdaae1d4e880093d-0-8\" stroke-width=\"1.5px\" d=\"M770,301.5 C770,201.5 930.0,201.5 930.0,301.5\" fill=\"none\" stroke=\"currentColor\"/>\n",
              "    <text dy=\"1.25em\" style=\"font-size: 0.8em; letter-spacing: 1px\">\n",
              "        <textPath xlink:href=\"#arrow-519dbcce3b3f4735bdaae1d4e880093d-0-8\" class=\"displacy-label\" startOffset=\"50%\" side=\"left\" fill=\"currentColor\" text-anchor=\"middle\">appos</textPath>\n",
              "    </text>\n",
              "    <path class=\"displacy-arrowhead\" d=\"M930.0,303.5 L936.0,293.5 924.0,293.5\" fill=\"currentColor\"/>\n",
              "</g>\n",
              "\n",
              "<g class=\"displacy-arrow\">\n",
              "    <path class=\"displacy-arc\" id=\"arrow-519dbcce3b3f4735bdaae1d4e880093d-0-9\" stroke-width=\"1.5px\" d=\"M970,301.5 C970,251.5 1025.0,251.5 1025.0,301.5\" fill=\"none\" stroke=\"currentColor\"/>\n",
              "    <text dy=\"1.25em\" style=\"font-size: 0.8em; letter-spacing: 1px\">\n",
              "        <textPath xlink:href=\"#arrow-519dbcce3b3f4735bdaae1d4e880093d-0-9\" class=\"displacy-label\" startOffset=\"50%\" side=\"left\" fill=\"currentColor\" text-anchor=\"middle\">obj</textPath>\n",
              "    </text>\n",
              "    <path class=\"displacy-arrowhead\" d=\"M1025.0,303.5 L1031.0,293.5 1019.0,293.5\" fill=\"currentColor\"/>\n",
              "</g>\n",
              "\n",
              "<g class=\"displacy-arrow\">\n",
              "    <path class=\"displacy-arc\" id=\"arrow-519dbcce3b3f4735bdaae1d4e880093d-0-10\" stroke-width=\"1.5px\" d=\"M1070,301.5 C1070,251.5 1125.0,251.5 1125.0,301.5\" fill=\"none\" stroke=\"currentColor\"/>\n",
              "    <text dy=\"1.25em\" style=\"font-size: 0.8em; letter-spacing: 1px\">\n",
              "        <textPath xlink:href=\"#arrow-519dbcce3b3f4735bdaae1d4e880093d-0-10\" class=\"displacy-label\" startOffset=\"50%\" side=\"left\" fill=\"currentColor\" text-anchor=\"middle\">flat</textPath>\n",
              "    </text>\n",
              "    <path class=\"displacy-arrowhead\" d=\"M1125.0,303.5 L1131.0,293.5 1119.0,293.5\" fill=\"currentColor\"/>\n",
              "</g>\n",
              "\n",
              "<g class=\"displacy-arrow\">\n",
              "    <path class=\"displacy-arc\" id=\"arrow-519dbcce3b3f4735bdaae1d4e880093d-0-11\" stroke-width=\"1.5px\" d=\"M770,301.5 C770,151.5 1235.0,151.5 1235.0,301.5\" fill=\"none\" stroke=\"currentColor\"/>\n",
              "    <text dy=\"1.25em\" style=\"font-size: 0.8em; letter-spacing: 1px\">\n",
              "        <textPath xlink:href=\"#arrow-519dbcce3b3f4735bdaae1d4e880093d-0-11\" class=\"displacy-label\" startOffset=\"50%\" side=\"left\" fill=\"currentColor\" text-anchor=\"middle\">flat</textPath>\n",
              "    </text>\n",
              "    <path class=\"displacy-arrowhead\" d=\"M1235.0,303.5 L1241.0,293.5 1229.0,293.5\" fill=\"currentColor\"/>\n",
              "</g>\n",
              "</svg></span>"
            ]
          },
          "metadata": {}
        }
      ],
      "source": [
        "from spacy import displacy\n",
        "\n",
        "displacy.render(nlp(sentencia), jupyter=True,\n",
        "                options={\"distance\": 100,\n",
        "                         \"arrow_stroke\": 1.5,\n",
        "                         \"arrow_width\": 8})"
      ]
    },
    {
      "cell_type": "code",
      "source": [],
      "metadata": {
        "id": "w9e9uLTOafF0"
      },
      "execution_count": null,
      "outputs": []
    },
    {
      "cell_type": "markdown",
      "source": [
        "#Corpus Brown"
      ],
      "metadata": {
        "id": "mTkfoXTukSA-"
      }
    },
    {
      "cell_type": "code",
      "execution_count": null,
      "metadata": {
        "id": "MbUZrtthI-Du",
        "colab": {
          "base_uri": "https://localhost:8080/"
        },
        "outputId": "1766a1bd-a344-4305-9716-3cd4ac0b85bd"
      },
      "outputs": [
        {
          "output_type": "stream",
          "name": "stderr",
          "text": [
            "[nltk_data] Downloading package brown to /root/nltk_data...\n",
            "[nltk_data]   Unzipping corpora/brown.zip.\n"
          ]
        },
        {
          "output_type": "stream",
          "name": "stdout",
          "text": [
            "BROWN CORPUS\n",
            "\n",
            "A Standard Corpus of Present-Day Edited American\n",
            "English, for use with Digital Computers.\n",
            "\n",
            "by W. N. Francis and H. Kucera (1964)\n",
            "Department of Linguistics, Brown University\n",
            "Providence, Rhode Island, USA\n",
            "\n",
            "Revised 1971, Revised and Amplified 1979\n",
            "\n",
            "http://www.hit.uib.no/icame/brown/bcm.html\n",
            "\n",
            "Distributed with the permission of the copyright holder,\n",
            "redistribution permitted.\n",
            "\n"
          ]
        },
        {
          "output_type": "execute_result",
          "data": {
            "text/plain": [
              "['adventure',\n",
              " 'belles_lettres',\n",
              " 'editorial',\n",
              " 'fiction',\n",
              " 'government',\n",
              " 'hobbies',\n",
              " 'humor',\n",
              " 'learned',\n",
              " 'lore',\n",
              " 'mystery',\n",
              " 'news',\n",
              " 'religion',\n",
              " 'reviews',\n",
              " 'romance',\n",
              " 'science_fiction']"
            ]
          },
          "metadata": {},
          "execution_count": 12
        }
      ],
      "source": [
        "from nltk.corpus import brown\n",
        "\n",
        "nltk.download(\"brown\")\n",
        "print(brown.readme())\n",
        "brown.categories()"
      ]
    },
    {
      "cell_type": "markdown",
      "source": [
        "# Acceso a sentencias"
      ],
      "metadata": {
        "id": "zH4zE06jlrcc"
      }
    },
    {
      "cell_type": "code",
      "source": [
        "sentencias = brown.sents(categories=\"mystery\")\n",
        "sentencias"
      ],
      "metadata": {
        "id": "ds4HxMOHlrmD",
        "colab": {
          "base_uri": "https://localhost:8080/"
        },
        "outputId": "2604915b-054f-4ab4-84a5-69444462d5ce"
      },
      "execution_count": null,
      "outputs": [
        {
          "output_type": "execute_result",
          "data": {
            "text/plain": [
              "[['There', 'were', 'thirty-eight', 'patients', 'on', 'the', 'bus', 'the', 'morning', 'I', 'left', 'for', 'Hanover', ',', 'most', 'of', 'them', 'disturbed', 'and', 'hallucinating', '.'], ['An', 'interne', ',', 'a', 'nurse', 'and', 'two', 'attendants', 'were', 'in', 'charge', 'of', 'us', '.'], ...]"
            ]
          },
          "metadata": {},
          "execution_count": 13
        }
      ]
    },
    {
      "cell_type": "markdown",
      "source": [
        "#Tokenización de palabras"
      ],
      "metadata": {
        "id": "aYFc7xvClasE"
      }
    },
    {
      "cell_type": "code",
      "execution_count": null,
      "metadata": {
        "id": "DfVeum1rI-Du",
        "colab": {
          "base_uri": "https://localhost:8080/"
        },
        "outputId": "cee4c443-bac3-4256-90b5-605b127a0bf1"
      },
      "outputs": [
        {
          "output_type": "stream",
          "name": "stderr",
          "text": [
            "[nltk_data] Downloading package punkt to /root/nltk_data...\n",
            "[nltk_data]   Unzipping tokenizers/punkt.zip.\n"
          ]
        },
        {
          "output_type": "stream",
          "name": "stdout",
          "text": [
            "['This', 'is', ',', 'a', ';', 'sentence', '.', 'This', '...', 'is', 'another', 'sentence', '.']\n",
            "['This is, a; sentence.', 'This ... is another sentence.']\n",
            "['This', 'is', ',', 'a', ';', 'sentence', '.', 'This', '...', 'is', 'another', 'sentence', '.']\n"
          ]
        }
      ],
      "source": [
        "from nltk.tokenize import word_tokenize, sent_tokenize, wordpunct_tokenize\n",
        "nltk.download(\"punkt\")\n",
        "texto = \"This is, a; sentence. \\n This ... is another sentence.\"\n",
        "print(word_tokenize(texto))\n",
        "print(sent_tokenize(texto))\n",
        "print(wordpunct_tokenize(texto))"
      ]
    },
    {
      "cell_type": "markdown",
      "source": [
        "# Palabras anotadas \"Parts of Speech\""
      ],
      "metadata": {
        "id": "vfbz6DtKligV"
      }
    },
    {
      "cell_type": "code",
      "execution_count": null,
      "metadata": {
        "id": "sROMwQf9I-Dv",
        "colab": {
          "base_uri": "https://localhost:8080/"
        },
        "outputId": "6866ca9b-b7da-4f8b-9cab-be8c6dc2f65c"
      },
      "outputs": [
        {
          "output_type": "execute_result",
          "data": {
            "text/plain": [
              "[[('There', 'EX'), ('were', 'BED'), ('thirty-eight', 'CD'), ('patients', 'NNS'), ('on', 'IN'), ('the', 'AT'), ('bus', 'NN'), ('the', 'AT'), ('morning', 'NN'), ('I', 'PPSS'), ('left', 'VBD'), ('for', 'IN'), ('Hanover', 'NP'), (',', ','), ('most', 'AP'), ('of', 'IN'), ('them', 'PPO'), ('disturbed', 'VBN'), ('and', 'CC'), ('hallucinating', 'VBG'), ('.', '.')], [('An', 'AT'), ('interne', 'NN'), (',', ','), ('a', 'AT'), ('nurse', 'NN'), ('and', 'CC'), ('two', 'CD'), ('attendants', 'NNS'), ('were', 'BED'), ('in', 'IN'), ('charge', 'NN'), ('of', 'IN'), ('us', 'PPO'), ('.', '.')], ...]"
            ]
          },
          "metadata": {},
          "execution_count": 15
        }
      ],
      "source": [
        "palabras_etiquetadas = brown.tagged_sents(categories=\"mystery\")\n",
        "palabras_etiquetadas"
      ]
    },
    {
      "cell_type": "markdown",
      "source": [
        "# Extracción de sustantivos"
      ],
      "metadata": {
        "id": "BU4oNJPcmF0V"
      }
    },
    {
      "cell_type": "code",
      "execution_count": null,
      "metadata": {
        "id": "aviOCNYBI-Dv",
        "colab": {
          "base_uri": "https://localhost:8080/"
        },
        "outputId": "1c4d96e6-76d5-42ea-e76d-8ea9db230f00"
      },
      "outputs": [
        {
          "output_type": "stream",
          "name": "stdout",
          "text": [
            "['patients', 'bus', 'morning', 'Hanover', 'interne', 'nurse', 'attendants', 'charge', 'bus', 'window', 'drone', 'voices', 'odors', 'patients', 'ward', 'state', 'Illinois', 'hospital', 'Mary', 'Jane', 'Brennan', 'way', 'eyes', 'anger', 'competence', 'gentleness', 'sweetness', 'surface', 'defenses', 'friends', 'stay', 'stories', 'newspapers', 'adventure', 'address', 'student', 'university', 'studies', 'relative', 'remorse', 'newspaper', 'stories', 'girl', 'booze', 'drunk', 'Nonsense', 'neighborhood', 'drunks', 'kind', 'love', 'girl', 'difference', 'Mary', 'Jane', 'eyes', 'people', 'patient', 'care', 'people', 'Mary', 'Jane', 'lifetime', 'while', 'whiskey', 'indifference', 'attitudes', 'girl', 'engagement', 'school', 'ward', 'months', 'ones', 'promises', 'sickness', 'stay', 'joke', 'joke', 'place', 'Hanover', 'college', 'Chicago', 'eyes', 'Anderson', 'reality', 'college', 'children', 'policeman', 'dollars', 'year', 'money', 'tuition', 'clothes', 'things', 'dollars', 'month', 'deal', 'nurse', 'baby', 'brothers', 'college', 'profession', 'maid', 'boy', 'friend', 'business', 'subject', 'father', 'mother', 'place', 'father', 'mother', 'years', 'aunt', 'Mary', 'military', 'service', 'voice', 'anger', 'face', 'family', 'eyes', 'father', 'mother', 'aunts', 'uncles', 'cousins', 'orphan', 'dad', 'father', 'policeman', 'rumdum', 'daughter', 'date', 'hospital', 'month', 'father', 'sergeant', 'detectives', 'years', 'judge', 'character', 'Anderson', 'rumdum', 'future', 'date', 'Hanover', 'school', 'experiences', 'Hanover', 'offer', 'girl', 'Mary', 'Jane', 'Brennan', 'truth', 'person', 'things', 'Mary', 'Jane', 'dinner', 'Hanover', 'story', 'school', 'girl', 'weekends', 'Hanover', 'overnight', 'month', 'dinner', 'orchestra', 'interest', 'patient', 'ward', 'treatment', 'hospital', 'bus', 'girl', 'thing', 'life', 'moment', 'truth', 'story', 'people', 'state', 'Illinois', 'name', 'girl', 'Mary', 'Jane', 'Brennan', 'proof', 'proof', 'agreement', 'moment', 'bus', 'highway', 'Hanover', 'seat', 'eyes', 'events', 'weeks', 'pieces', 'order', 'jabberings', 'patient', 'reality', 'Dale', 'Nelson', 'actor', 'delusion', 'figment', 'Carl', 'imagination', 'Chicago', 'September', 'production', 'play', 'grade-A', 'turkey', 'prevalence', 'angels', 'dreams', 'capital', 'gain', 'tax', 'money', 'rehearsal', 'producer', 'hope', 'Broadway', 'suspense', 'gangster', 'story', 'Capone', 'era', 'run', 'Chicago', 'road', 'company', 'movie', 'optimism', 'critics', 'indignation', 'moment', 'Kupcinet', 'Sun-Times', 'column', 'cast', 'notices', 'portrayal', 'killer', 'let', 'lot', 'kidding', 'rest', 'company', 'members', 'morning', 'tickets', 'bags', 'life', 'failure', 'class', 'N.Y.U.', 'school', 'money', 'energy', 'time', 'spot', 'network', 'soap', 'opera', 'part', 'play', 'orderly', 'hospital', 'counterman', 'Schraffts', 'job', 'sort', 'crossroads', 'life', 'bag', 'door', 'bellboy', 'bathroom', 'drink', 'water', 'telephone', 'voice', 'Mr.', 'Dale', 'Nelson', 'actor', 'bastards', 'while', 'pardon', 'sir', 'Dale', 'Nelson', 'actor', 'Mr.', 'Nelson', 'request', 'Mr.', 'Phillip', 'Wycoff', 'lunch', 'car', 'hotel', 'Rolls-Royce', 'course', 'course', 'Mr.', 'Nelson', 'man', 'bar', 'lobby', 'cast', 'sorrows', 'passing', 'bastards', 'actor', 'drink', 'tenspot', 'bar', 'bartender', 'round', 'change', 'doorman', 'street', 'Mr.', 'Nelson', 'Mr.', 'car', 'entrance', 'lobby', 'street', 'Rolls-Royce', 'day', 'ship', 'curb', 'chauffeur', 'uniform', 'attention', 'door', 'town', 'car', 'cars', 'once-over', 'Oldsmobile', 'license', 'number', 'stall', 'number', 'attendant', 'deal', 'office', 'building', 'entrance', 'ticket', 'agency', 'car', 'minutes', 'car', 'ticket', 'rental', 'ticket', 'notation', 'row', 'rear', 'agency', 'car', 'bug', 'devices', 'shadowing', 'set', 'car', 'batteries', 'plenty', 'power', 'way', 'stalls', 'attendant', 'customer', 'back', 'car', 'license', 'number', 'bug', 'bumper', 'attendant', 'chores', 'detective', 'city', 'street', 'eye', 'entrance', 'office', 'building', 'minutes', 'window', 'displays', 'people', 'while', 'mind', 'symptoms', 'sort', 'assignment', 'leg', 'muscles', 'back', 'muscles', 'fact', 'feet', 'city', 'pavements', 'hours', 'man', 'office', 'building', 'lot', 'car', 'attendant', 'office', 'mind', 'sublease', 'couple', 'ways', 'curb', 'parking', 'curb', 'parking', 'money', 'rush', 'car', 'boys', 'rules', 'transients', 'Regulars', 'cars', 'office', 'building', 'place', 'way', 'sticks', 'business', 'business', 'couple', 'dollars', 'time', 'charge', 'cigar', 'agency', 'heap', 'motor', 'time', 'car', 'bit', 'turn', 'time', 'Traffic', 'bug', 'signal', 'time', 'blocks', 'block', 'lots', 'cars', 'beep', 'beep', 'beep', 'minutes', 'traffic', 'driving', 'device', 'beeps', 'beeps', 'car', 'beeps', 'beep', 'buzz', 'signal', 'while', 'signal', 'buzz', 'circle', 'car', 'curb', 'front', 'apartment', 'house', 'place', 'block', 'car', 'quarry', 'apartment', 'house', 'hours', 'beach', 'time', 'traffic', 'traffic', 'lights', 'giveaway', 'manner', 'device', 'signal', 'sudden', 'buzz', 'block', 'lot', 'high-class', 'restaurant', 'exit', 'odor', 'steaks', 'nostrils', 'aroma', 'coffee', 'man', 'hour', 'beach', 'mile', 'motel', 'bit', 'display', 'front', 'place', 'man', 'office', 'key', 'cabin', 'card', 'man', 'counter', 'name', 'Oscar', 'L.', 'Palmer', 'wife', 'San', 'Francisco', 'address', 'license', 'number', 'car', 'figures', 'dodge', 'times', 'motel', 'manager', 'license', 'number', 'plates', 'license', 'number', 'tenant', 'chance', 'transposition', 'numbers', 'thing', 'mistake', 'alias', 'Robert', 'C.', 'Richards', 'letters', 'figure', 'license', 'number', 'agency', 'heap', 'couple', 'numbers', 'manager', 'motel', 'woman', 'law', 'regard', 'registrations', 'license', 'numbers', 'tenants', 'Mr.', 'Richards', 'wife', 'wife', 'formality', 'difference', 'rate', 'dollars', 'way', 'ice', 'cubes', 'container', 'end', 'office', 'soft-drink', 'machines', 'things', 'place', 'glance', 'registration', 'card', 'key', 'car', 'construction', 'cracker-box', 'construction', 'motel', 'units', 'stucco', 'outside', 'walls', 'movement', 'people', 'apartment', 'amplifier', 'wall', 'side', 'aid', 'man', 'couple', 'times', 'toilet', 'sound', 'water', 'companion', 'stomach', 'lines', 'communication', 'thing', 'food', 'work', 'meal', 'night', 'hunger', 'torture', 'drive-in', 'road', 'quarter', 'mile', 'batteries', 'device', 'car', 'signals', 'microphone', 'wall', 'motel', 'unit', 'man', 'sound', 'conversation', 'car', 'drive-in', 'couple', 'hamburgers', 'cup', 'coffee', 'service', 'place', 'time', 'night', 'girl', 'pair', 'slacks', 'woman', 'sweater', 'hurry', 'hurry', 'evening', 'hurry', 'lots', 'time', 'women', 'pout', 'work', 'evening', 'thing', 'car', 'signal', 'ignition', 'key', 'device', 'hamburgers', 'device', 'signal', 'car', 'hamburgers', 'device', 'dinner', 'kindness', 'diet', 'pineapple', 'cottage', 'cheese', 'salad', 'place', 'Diets', 'girl', 'bit', 'figure', 'hand', 'figures', 'hand', 'wiggle', 'device', 'silence', 'buzzes', 'lights', 'check', 'change', 'dollar', 'tip', 'man', 'corner', 'gun', 'man', 'building', 'police', 'door', 'Roberta', 'Dave', 'door', 'man', 'gun', 'corner', 'water', 'works', 'policeman', 'duty', 'night', 'policeman', 'Canada', 'juvenile', 'delinquency', 'problem', 'night', 'policeman', 'account', 'tourists', 'door', 'Dave', 'latch', 'Roberta', 'husband', 'gun', 'distance', 'men', 'gun', 'distance', 'men', 'back', 'room', 'gun', 'waving', 'directions', 'police', 'Dave', 'latch', 'thumb', 'arm', 'wife', 'order', 'door', 'flash', 'back', 'attention', 'shouts', 'male', 'throats', 'back', 'door', 'room', 'light', 'restaurant', 'table', 'cloth', 'top', 'sideboard', 'beer', 'bottles', 'chairs', 'men', 'Rat-face', 'counter', 'feet', 'distance', 'Dave', 'door', 'miles', 'gaze', 'men', 'counter', 'way', 'door', 'booths', 'step', 'time', 'gun', 'Dave', 'arm', 'safety', 'person', 'certainty', 'despair', 'Lauren', 'men', 'Dave', 'door', 'sidewalk', 'car', 'man', 'apron', 'jacket', 'paunch', 'man', 'phone', 'number', 'Albert', 'Vince', 'couple', 'customers', 'hair', 'word', 'trouble', 'thing', 'night', 'Rose', 'Clarence', 'Corsi', 'Quebec', 'shrine', 'phone', 'front', 'restaurant', 'Buick', 'line', 'worry', 'twitch', 'mouth', 'side', 'Grosse', 'kid', 'name', 'town', 'Vince', 'sleep', 'Barney', 'door', 'zombie', 'garage', 'Vince', 'fools', 'brains', 'Grosse', 'head', 'hand', 'zipper', 'jacket', 'brains', 'parents', 'eyes', 'face', 'companion', 'fury', 'Vince', 'Steiner', 'men', 'fury', 'while', 'curse', 'Vince', 'thing', 'glass', 'sugar', 'container', 'metal', 'top', 'wall', 'glass', 'top', 'sugar', 'hiss', 'silence', 'Grosse', 'pipe', 'Vince', 'Grosse', 'broom', 'sugar', 'Vince', 'mouth', 'profanity', 'obscenities', 'vocabulary', 'hell', 'back', 'seat', 'car', 'Barney', 'brains', 'man', 'menus', 'sugar', 'box', 'floor', 'counter', 'menu', 'place', 'catchup', 'bottle', 'paper', 'napkin', 'dispenser', 'cars', 'garage', 'gun', 'Grosse', 'gun', 'counter', 'word', 'Guardino', 'Guardino', 'Vince', 'kid', 'house', 'man', 'finger', 'cheek', 'scratch', 'tool', 'crib', 'man', 'pacing', 'clock', 'Barney', 'kid', 'border', 'God', 'Grosse', 'hands', 'day', 'tool', 'crib', 'hell', 'day', 'Guardino', 'questions', 'Grosse', 'Vince', 'baby', 'sitter', 'Vince', 'Grosse', 'bridge', 'nose', 'luck', 'kid', 'voice', 'tones', 'question', 'Canadian', 'aleck', 'Vince', 'hand', 'lips', 'smile', 'Grosse', 'Chicago', 'slum', 'account', 'kid', 'Lauren', 'Landis', 'face', 'blanket', 'men', 'girl', 'back', 'seat', 'car', 'actions', 'panic', 'thing', 'restaurant', 'parents', 'garage', 'parents', 'man', 'Barney', 'man', 'window', 'bottle', 'coke', 'candy', 'man', 'bottle', 'bottle', 'opener', 'counter', 'panic', 'nose', 'tissue', 'coke', 'bottle', 'lift', 'spirit', 'man', 'inside', 'door-frame', 'side', 'car', 'Barney', 'direction', 'Barney', 'answer', 'point', 'window', 'Lauren', 'money', 'bus', 'money', 'Barney', 'cigarette', 'sole', 'shoe', 'Lauren', 'work', 'car', 'head', 'arms', 'counter', 'moment', 'heart', 'dangers', 'thing', 'hours', 'wrists', 'Tears', 'act', 'will', 'mind', 'situation', 'mother', 'father', 'instance', 'mind', 'Buick', 'road', 'attention', 'road', 'inch', 'bridge', 'LaSalle', 'driveway', 'end', 'line', 'mother', 'mother', 'shoulder', 'seat', 'Lauren', 'Landis', 'trouble', 'Roberta', 'Landis', 'hand', 'arm', 'seat', 'birds', 'teeth', 'attempts', 'speech', 'Dave', 'apron', 'door', 'spot', 'Dave', 'sound', 'agreement', 'car', 'key', 'lock', 'Roberta', 'police', 'corner', 'car', 'door', 'engine', 'life', 'Dave', 'message', 'Roberta', 'Lauren', 'car', 'corner', 'car', 'curb', 'wife', 'car', 'sight', 'Roberta', 'jowls', 'barbs', 'beard', 'eyes', 'Marty', 'eyes', 'filaments', 'veins', 'blood', 'gum', 'breath', 'Marty', 'reek', 'whiskey', 'Marty', 'man', 'car', 'road', 'place', 'Acey', 'Squire', 'proprietor', 'juke', 'joint', 'Marty', 'Squire', 'cab', 'Squire', 'gum', 'jaw', 'rhythm', 'Marty', 'Marty', 'faces', 'others', 'eyes', 'cab', 'voice', 'surprise', 'annoyance', 'Jarrodsville', 'cars', 'gentlemen', 'town', 'favor', 'course', 'men', 'moment', 'thing', 'Marty', 'moments', 'mouth', 'word', 'signal', 'men', 'instant', 'cars', 'motors', 'cars', 'station', 'wagon', 'Plymouth', 'Jarrodsville', 'Ford', 'pickup', 'truck', 'seconds', 'cars', 'sight', 'Marty', 'Land', 'red-clay', 'road', 'storm', 'clouds', 'sky', 'distance', 'thunder', 'silence', 'Land', 'house', 'face', 'window', 'Dora', 'May', 'hurt', 'farmhouses', 'road', 'yards', 'side', 'Jarrodsville', 'Telephone', 'poles', 'road', 'wires', 'infinity', 'strand', 'wire', 'houses', 'red-clay', 'road', 'Jarrodsville', 'miles', 'dirt', 'road', 'rain', 'quagmire', 'Marty', 'side', 'road', 'feet', 'cuffs', 'trousers', 'mud', 'places', 'puddles', 'road', 'light', 'farmhouse', 'thunder', 'drum', 'corps', 'people', 'porch', 'farmhouse', 'man', 'woman', 'brood', 'children', 'toddlers', 'teen-agers', 'instant', 'help', 'car', 'truck', 'town', 'futility', 'idea', 'blank', 'way', 'men', 'gate', 'eyes', 'children', 'side', 'road', 'farm', 'hands', 'field', 'plow', 'drums', 'thunder', 'thought', 'head', 'story', 'youth', 'tales', 'officer', 'roll', 'drums', 'ranks', 'men', 'man', 'back', 'officer', 'Marty', 'farm', 'people', 'backs', 'fencing', 'roadside', 'dirt', 'highway', 'side', 'drainage', 'ditch', 'star', 'rain', 'water', 'road', 'sound', 'car', 'car', 'sight', 'heart', 'beat', 'station', 'wagon', 'cab', 'road', 'station', 'wagon', 'Burch', 'farm', 'Acey', 'station', 'wagon', 'Jarrodsville', 'ruse', 'road', 'Acey', 'friends', 'station', 'wagon', 'stop', 'couple', 'feet', 'front', 'field', 'sound', 'car', 'direction', 'Ford', 'farm', 'Marty', 'directions', 'road', 'cars', 'road', 'drainage', 'ditch', 'cars', 'station', 'wagon', 'Ford', 'speed', 'ditch', 'knees', 'water', 'cars', 'sound', 'Marty', 'soldiers', 'Chancellorsville', 'Antietam', 'Gettysburg', 'ranks', 'banshee', 'howl', 'yell', 'moments', 'water', 'breath', 'ankle', 'cars', 'load', 'men', 'distance', 'cars', 'farm', 'Plymouth', 'pickup', 'truck', 'directions', 'station', 'wagon', 'Ford', 'death', 'inches', 'time', 'time', 'way', 'Jarrodsville', 'miles', 'juvenile', 'delinquents', 'autos', 'switch', 'blades', 'weapons', 'game', 'fields', 'way', 'sides', 'road', 'barbed-wire', 'fence', 'section', 'road', 'rail', 'fence', 'section', 'farmhouse', 'fence', 'tormenters', 'Admassy', 'place', 'window', 'while', 'chance', 'phone', 'road', 'water', 'mud', 'feet', 'step', 'end', 'drainage', 'ditch', 'beginning', 'fence', 'farm', 'road', 'moment', 'panic', 'fence', 'refuge', 'metal', 'death', 'rails', 'rails', 'screening', 'wire', 'flesh', 'road', 'place', 'sense', 'dignity', 'dignity', 'life', 'stake', 'people', 'porch', 'windows', 'farmhouse', 'dogtrot', 'sweat', 'place', 'sanctuary', 'fences', 'sides', 'road', 'wire', 'fences', 'Plymouth', 'pickup', 'truck', 'time', 'instant', 'fence', 'cars', 'wire', 'middle', 'road', 'target', 'cars', 'gas', 'pedals', 'floor', 'boards', 'speed', 'vehicles', 'arms', 'sides', 'Plymouth', 'path', 'car', 'fender', 'Plymouth', 'jacket', 'fraction', 'pickup', 'truck', 'side', 'sound', 'yell', 'hills', 'middle', 'road', 'eyes', 'Admassy', 'house', 'car', 'sound', 'sound', 'yell', 'sound', 'siren', 'car', 'arms', 'prowl', 'car', 'office', 'car', 'Charley', 'Estes', 'back', 'seat', 'breath', 'front', 'sheriff', 'Pete', 'Holmes', 'cabdriver', 'Pete', 'Marty', 'hound', 'use', 'dozen', 'tires', 'head', 'Burch', 'house', 'sheriff', 'sheriff', 'car', 'space', 'redneck', 'country', 'man', 'houses', 'telephone', 'Rourke', 'bedroom', 'slippers', 'socks', 'shoes', 'Rourke', 'phone', 'hour', 'moment', 'head', 'Alvarez', 'back', 'room', 'hour', 'Shayne', 'watch', 'midnight', 'satisfaction', 'Tim', 'Rourke', 'appointment', 'phone', 'Mike', 'Christ', 'Shayne', 'drink', 'call', 'Alvarez', 'section', 'car', 'front', 'Rourke', 'whiskey', 'glass', 'top', 'ice-cubes', 'Shayne', 'closet', 'jacket', 'hat', 'door', 'Timothy', 'Rourke', 'whiskey', 'section', 'lady', 'lady', 'door', 'Rourke', 'car', 'Shayne', 'Felice', 'address', 'Peralta', 'governess', 'Timothy', 'Rourke', 'events', 'evening', 'reporter', 'Peralta', 'house', 'surmises', 'midnight', 'Marsha', 'phone', 'call', 'letter', 'situation', 'call', 'deal', 'knife-men', 'Rourke', 'interest', 'malice', 'Mrs.', 'Peralta', 'Shayne', 'mouth', 'lot', 'story', 'note', 'spot', 'Peralta', 'case', 'Laura', 'bracelet', 'knowledge', 'idea', 'husband', 'thing', 'defiance', 'confederates', 'street', 'Shayne', 'street', 'sign', 'Rourke', 'right-hand', 'side', 'number', 'block', 'Shayne', 'left-hand', 'lane', 'divider', 'restaurant', 'cocktail', 'lounge', 'corner', 'intersection', 'street', 'houses', 'sides', 'mansions', 'rooms', 'housekeeping', 'apartments', 'Shayne', 'Rourke', 'head', 'window', 'street', 'numbers', 'automobile', 'block', 'left-hand', 'side', 'Shayne', 'license', 'plates', 'flare', 'match', 'seat', 'faces', 'men', 'car', 'Rourke', 'house', 'Mike', 'curb', 'Shayne', 'speed', 'corner', 'corner', 'lights', 'motor', 'Mike', 'Rourke', 'voice', 'Shayne', 'Tim', 'voice', 'car', 'street', 'numbers', 'license', 'Tim', 'men', 'seat', 'look', 'faces', 'hell', 'dicks', 'couple', 'Harris', 'Geely', 'names', 'minute', 'Mike', 'office', 'evening', 'Shayne', 'pair', 'Petey', 'stake-out', 'Felice', 'Perrin', 'orders', 'contact', 'Tim', 'block', 'cocktail', 'lounge', 'Biscayne', 'reporter', 'Miss', 'Perrin', 'hands', 'cops', 'stake-out', 'reporter', 'side', 'Geely', 'Harris', 'lounge', 'Shayne', 'door', 'side', 'Timothy', 'Rourke', 'wheel', 'things', 'Mike', 'Shayne', 'headlines', 'street', 'block', 'restaurant', 'end', 'bar', 'slug', 'cognac', 'Rourke', 'minutes', 'reporter', 'bar', 'Shayne', 'bartender', 'Bourbon', 'water', 'Rourke', 'Harris', 'Geely', 'identification', 'Felice', 'Perrin', 'Shayne', 'Tim', 'time', 'drink', 'minutes', 'phone', 'booth', 'couple', 'drunks', 'hell', 'fight', 'street', 'patrol', 'car', 'Perrin', 'address', 'bartender', 'drink', 'Shayne', 'bill', 'bar', 'voice', 'date', 'lady', 'Mister', 'pint', 'wink', 'Candy', 'liquor', 'candy', 'sale', 'bartender', 'bill', 'moment', 'pint', 'brandy', 'paper', 'sack', 'counter', 'Shayne', 'detective', 'pocket', 'Rourke', 'hell', 'Mike', 'couple', 'punk', 'detectives', 'Geely', 'Harris', 'God', 'way', 'afternoon', 'minutes', 'Tim', 'Shayne', 'Rourke', 'watch', 'drink', 'dime', 'telephone', 'call', 'police', 'Shayne', 'Rourke', 'coupe', 'front', 'bar', 'right-hand', 'door', 'automatic', 'glove', 'compartment', 'hip', 'pocket', 'care', 'detectives', 'weight', 'hip', 'side', 'cops', 'rights', 'citizen', 'pistol', 'permit', 'sidewalk', 'car', 'detectives', 'seat', 'brim', 'hat', 'street', 'car', 'right-hand', 'side', 'man', 'Geely', 'side', 'seat', 'companion', 'back', 'door', 'Shayne', 'handle', 'door', 'men', 'presence', 'night', 'Geely', 'arm', 'neck', 'roadway', 'fist', 'jaw', 'Geely', 'Shayne', 'ground', 'door', 'Harris', 'gun', 'shoulder', 'holster', 'wheel', 'Shayne', 'hands', 'neck', 'seat', 'roadway', 'point', 'chin', 'body', 'street', 'couple', 'feet', 'figure', 'moment', 'man', 'side', 'Shayne', 'pint', 'liquor', 'pocket', 'top', 'stuff', 'men', 'bottle', 'seat', 'figure', 'lounge', 'street', 'side', 'Shayne', 'reporter', 'front', 'house', 'Felice', 'Perrin', 'police', 'patrol', 'car', 'fools', 'bottle', 'Shayne', 'fun', 'Miami', 'cops', 'business', 'stake-out', 'porch', 'hallway', 'bulb', 'ceiling', 'row', 'mailboxes', 'wall', 'numbers', 'names', 'Shayne', 'Perrin', 'stairway', 'wall-switch', 'bottom', 'bulb', 'top', 'rooms', 'transoms', 'sound', 'light', 'house', 'occupants', 'steps', 'Roberts', 'Mickey', 'planning', 'banister', 'hotel', 'desk', 'telephone', 'pen', 'set', 'story', 'way', 'Roberts', 'thud', 'change', 'air', 'pressure', 'time', 'Roberts', 'air', 'face', 'Mickey', 'banister', 'hand', 'weight', 'moment', 'groin', 'air', 'impact', 'hand', 'rail', 'Roberts', 'agony', 'steps', 'effort', 'fall', 'back', 'shoulders', 'head', 'mind', 'moment', 'lobby', 'floor', 'weight', 'body', 'vision', 'Mickey', 'knees', 'Roberts', 'stairs', 'razor', 'hand', 'pocket', 'Roberts', 'weapon', 'hand', 'eyes', 'feet', 'moment', 'direction', 'attack', 'knees', 'lock', 'pain', 'groin', 'eyes', 'Roberts', 'pain', 'moment', 'hand', 'fingers', 'fool', 'Roberts', 'eyes', 'hand', 'steps', 'razor', 'side', 'attack', 'Mickey', 'move', 'feet', 'Roberts', 'step', 'Mickey', 'arms', 'time', 'Roberts', 'hands', 'pockets', 'taunt', 'Roberts', 'hint', 'feint', 'side', 'reach', 'Mickey', 'steps', 'grin', 'face', 'nose', 'blood', 'Mickey', 'Roberts', 'series', 'fits', 'starts', 'dance', 'steps', 'steps', 'steps', 'Mickey', 'shoulders', 'wall', 'slab', 'door', 'second', 'eye', 'razor', 'matter', 'Roberts', 'kick', 'groin', 'hand', 'concern', 'kick', 'guts', 'effort', 'eye', 'weapon', 'silver', 'arc', 'throat', 'shoulder', 'forearm', 'blade', 'sleeve', 'Roberts', 'face', 'fist', 'belly', 'Roberts', 'Mickey', 'side', 'wood', 'floor', 'Roberts', 'breath', 'couple', 'seconds', 'Mickey', 'sight', 'blade', 'side', 'jacket', 'sting', 'ribs', 'knee', 'belly', 'hands', 'feet', 'center', 'lobby', 'razor', 'Roberts', 'crouch', 'head', 'Mickey', 'Roberts', 'fist', 'ribs', 'razor', 'mid-air', 'fist', 'weight', 'face', 'Roberts', 'back', 'balance', 'newel', 'post', 'foot', 'stairs', 'sound', 'head', 'wood', 'sound', 'side', 'step', 'Mickey', 'desk', 'hands', 'breath', 'minute', 'Roberts', 'eyes', 'pulse', 'Roberts', 'lobby', 'time', 'minutes', 'sum', 'reasoning', 'way', 'Wister', 'Roberts', 'law', 'others', 'way', 'Roberts', 'step', 'Mickey', 'thing', 'stairs', 'room', 'suitcase', 'things', 'Roberts', 'wastrel', 'impulse', 'suitcase', 'rag', 'room', 'hour', 'room', 'overcoat', 'rest', 'things', 'lobby', 'suitcase', 'door', 'garage', 'interruption', 'vision', 'night', 'sky', 'face', 'hair', 'key', 'minutes', 'drive', 'hotel', 'razor', 'pocket', 'suitcase', 'seat', 'Roberts', 'body', 'shoulder', 'work', 'back', 'porch', 'door', 'direction', 'tour', 'dip', 'woods', 'ruts', 'way', 'spot', 'ground', 'gear', 'fork', 'road', 'entrance', 'mine', 'headlights', 'tunnel', 'suitcase', 'illumination', 'dozen', 'feet', 'passage', 'flashlight', 'tunnel', 'suitcase', 'edge', 'pit', 'bag', 'pit', 'dust', 'dust', 'body', 'shoulder', 'suitcase', 'snow', 'passage', 'way', 'timber', 'burden', 'time', 'edge', 'pit', 'shoulder', 'back', 'drag', 'weight', 'seconds', 'paces', 'edge', 'weight', 'place', 'place', 'Roberts', 'Roberts', 'corpse', 'floor', 'tunnel', 'relief', 'weight', 'tension', 'couple', 'minutes', 'breath', 'knees', 'body', 'edge', 'point', 'push', 'hole', 'feet', 'flashlight', 'beam', 'pit', 'body', 'sprawl', 'feet', 'level', 'tunnel', 'floor', 'chance', 'shaft', 'winter', 'signs', 'approach', 'snow', 'day', 'tunnel', 'body', 'spring', 'skeleton', 'way', 'turn', 'razor', 'pocket', 'tunnel', 'razor', 'pit', 'thigh', 'ground', 'drive', 'hotel', 'garage', 'signs', 'use', 'stains', 'rag', 'nail', 'wheel', 'places', 'flashlight', 'car', 'garage', 'tire', 'marks', 'others', 'floor', 'scrutiny', 'Liz', 'Peabody', 'time', 'lover', 'investigation', 'woman', 'pride', 'sense', 'sense', 'sheriff', 'boy', 'friend', 'call', 'Cunningham', 'hotel', 'room', 'maid', 'Nancy', 'work', 'Jeb', 'advice', 'woman', 'Lisa', 'courtyard', 'picture', 'initials', 'enthusiasm', 'day', 'highway', 'drive', 'coast', 'miles', 'coast', 'town', 'beach', 'tourist', 'attractions', 'motel', 'courthouse', 'white-stucco', 'building', 'dome', 'privet', 'hedges', 'patches', 'dirt', 'small-town', 'squares', 'building', 'growth', 'camellias', 'azaleas', 'lawn', 'shade', 'grass', 'bet', 'call', 'sheriff', 'clerk', 'office', 'Carruthers', 'man', 'hair', 'voice', 'resonance', 'office', 'front', 'desk', 'Hank', 'information', 'background', 'case', 'clue', 'swivel', 'chair', 'woman', 'man', 'year', 'person', 'Pity', 'bet', 'society', 'columns', 'year', 'grooms', 'obituaries', 'job', 'newspaper', 'files', 'basement', 'county', 'office', 'society', 'editor', 'bride', 'idea', 'Mrs.', 'Calhoun', 'society', 'editor', 'years', 'editor', 'marriages', 'heaven', 'weddings', 'Mrs.', 'columns', 'wedding', 'lead', 'space', 'paper', 'editor', 'hospital', 'gallstone', 'operation', 'Mrs.', 'Calhoun', 'mother', 'bride', 'house', 'bed', 'bride', 'background', 'scientist', 'heredity', 'environment', 'groom', 'luck', 'case', 'election', 'Mrs.', 'Calhoun', 'Paul', 'Revere', 'Lexington', 'Concord', 'estate', 'cosmetics', 'hospital', 'insurance', 'trek', 'afternoon', 'newspaper', 'plant', 'insurance', 'office', 'house', 'newspaper', 'woman', 'poodle', 'cut', 'pencil', 'bit', 'teeth', 'typewriter', 'couple', 'minutes', 'businesses', 'year', 'Baton', 'Rouge', 'man', 'Vincent', 'Black', 'picture', 'paper', 'bride', 'years', 'reason', 'breaking-out', 'face', 'sort', 'allergy', 'pictures', 'days', 'wedding', 'face', 'blemish', 'course', 'veil', 'name', 'Lisa', 'Carmody', 'hell', 'salesman', 'files', 'note', 'money', 'gleam', 'eye', 'matter', 'courthouse', 'sheriff', 'Sounds', 'Hank', 'lock', 'day', 'basement', 'sheriff', 'office', 'man', 'shirt', 'sleeves', 'Mr.', 'Ferrell', 'Hirey', 'Lindsay', 'chairman', 'board', 'supervisors', 'Mr.', 'Ferrell', 'detective', 'Hirey', 'Wants', 'newspaper', 'files', 'lock', 'Hirey', 'door', 'Carruthers', 'room', 'metal', 'door', 'grillework', 'door', 'jail', 'prisoners', 'jail', 'Hirey', 'lot', 'prisoners', 'sight', 'ones', 'jail', 'air', 'air', 'conditioner', 'grille', 'sheriff', 'room', 'shelves', 'volumes', 'floor', 'ceiling', 'walls', 'metal', 'table', 'chairs', 'center', 'Carruthers', 'cigarettes', 'course', 'clippings', 'air', 'conditioner', 'Mr.', 'Ferrell', 'Hirey', 'door', 'Hank', 'rules', 'minute', 'mustiness', 'paper', 'leather', 'air', 'conditioner', 'tour', 'stacks', 'volumes', 'room', 'weakness', 'records', 'century', 'reconstruction', 'moon', 'rockets', 'volumes', 'ones', 'volume', 'top', 'couple', 'inches', 'ceiling', 'metal', 'ladder', 'casters', 'shelf', 'volume', 'balance', 'weight', 'table', 'Mrs.', 'Calhoun', 'marriage', 'spring', 'months', 'society', 'page', 'stories', 'paper', 'April', 'Mrs.', 'Calhoun', 'wedding', 'others', 'contrast', 'amount', 'information', 'bride', 'groom', 'Mr.', 'life', 'book', 'birth', 'Jackson', 'Mississippi', 'days', 'L.S.U.', 'attainment', 'B.A.', 'degree', 'career', 'district', 'sales', 'manager', 'line', 'bride', 'Miss', 'Lisa', 'Carmody', 'Baton', 'Rouge', 'mention', 'Hank', 'concern', 'Mr.', 'Black', 'Mrs.', 'Black', 'Mr.', 'days', 'exodus', 'time', 'search', 'reading', 'columns', 'notes', 'issue', 'edition', 'May', 'item', 'Mr.', 'Mrs.', 'Black', 'Jackson', 'town', 'Lisa', 'year', 'program', 'call', 'Jackson', 'office', 'Vincent', 'Black', 'watch', 'weakness', 'hour', 'ladder', 'excitement', 'reporters', 'assassination', 'fire', 'Chicago', 'Hall-Mills', 'trial', 'middle', 'stock', 'market', 'crash', 'noise', 'office', 'mouse', 'sound', 'silence', 'sound', 'lack', 'air', 'conditioner', 'metal', 'door', 'face', 'grille', 'light', 'grille', 'office', 'door', 'janitor', 'woman', 'Hirey', 'lock', 'beginnings', 'fear', 'mind', 'person', 'Hank', 'door', 'room', 'light', 'door', 'file', 'room', 'courthouse', 'square', 'room', 'motel', 'stores', 'square', 'vault', 'hissing', 'dread', 'pungency', 'gas', 'upright', 'heater', 'wall', 'office', 'Lilac', 'Gaylor', 'Lila', 'Kingsley', 'anagram', 'pace', 'minutes', 'room', 'touch', 'reality', 'obsession', 'reminiscences', 'Lila', 'Lilac', 'legend', 'mind', 'form', 'life', 'microscope', 'slide', 'Mr.', 'Skyros', 'time', 'nuisance', 'Angie', 'Angie', 'Time', 'Angie', 'Mr.', 'Skyros', 'time', 'favors', 'favor', 'Pretty', 'trouble', 'trouble', 'trouble', 'trouble', 'Mr.', 'Skyros', 'heaven', 'Mr.', 'Skyros', 'man', 'tie', 'mirror', 'hand', 'smile', 'face', 'Angie', 'information', 'Angie', 'Mr.', 'Skyros', 'bay', 'favor', 'deal', 'fire', 'Angie', 'deal', 'ace', 'spades', 'ace', 'spades', 'luck', 'Ace', 'spades', 'widow', 'widow', 'low-class', 'crooks', 'Mr.', 'Skyros', 'Angie', 'things', 'hand', 'lot', 'hand', 'rule', 'chance', 'way', 'Frank', 'brothers', 'Angie', 'Mr.', 'Skyros', 'look', 'face', 'Angelo', 'Mr.', 'Skyros', 'man', 'principles', 'money', 'way', 'Angelo', 'living', 'stuff', 'smile', 'eyes', 'friend', 'life', 'proverb', 'ounce', 'prevention', 'pound', 'cure', 'business', 'weeks', 'month', 'cops', 'deal', 'while', 'Angie', 'way', 'Castro', 'weeks', 'Mr.', 'Skyros', 'Angie', 'Prettyman', 'boys', 'Angie', 'salesman', 'Prettyman', 'nuisance', 'danger', 'touch', 'bunch', 'boys', 'Denny', 'Angie', 'Mr.', 'Skyros', 'Angie', 'Angelo', 'smile', 'Mr.', 'Skyros', 'fellow', 'want', 'Denny', 'Mr.', 'Skyros', 'God', 'name', 'fool', 'Mr.', 'Skyros', 'dealings', 'underling', 'whip', 'hand', 'Domokous', 'Mr.', 'Skyros', 'trouble', 'man', 'course', 'factor', 'Angie', 'weight', 'gold', 'users', 'Angie', 'sweat', 'Mr.', 'forehead', 'God', 'Domokous', 'shoulder', 'way', 'Pretty', 'supply', 'Angelo', 'friend', 'point', 'favor', 'touch', 'stuff', 'friend', 'schedules', 'business', 'man', 'while', 'stuff', 'business', 'Mr.', 'Skyros', 'Angie', 'eyes', 'Mr.', 'shoulder', 'ground-glass', 'window', 'trouble', 'room', 'San', 'Pedro', 'couple', 'decks', 'Mr.', 'Skyros', 'cash', 'Mr.', 'Skyros', 'Angelo', 'Pretty', 'cash', 'basis', 'Angie', 'Mr.', 'Skyros', 'throw', 'deal', 'cash', 'decks', 'smile', 'deal', 'Mr.', 'Skyros', 'look', 'Mr.', 'Skyros', 'friend', 'inconvenience', 'hurry', 'man', 'door', 'brow', 'thing', 'situations', 'things', 'deal', 'Bouvardier', 'woman', 'ace', 'spades', 'man', 'business', 'profit', 'work', 'money', 'Katya', 'Roslev', 'Katharine', 'Ross', 'sale', 'day', 'change', 'customer', 'purchase', 'smile', 'word', 'thanks', 'kind', 'place', 'game', 'others', 'offense', 'manager', 'kind', 'store', 'kind', 'place', 'time', 'kind', 'thing', 'noon', 'Money', 'lot', 'money', 'bills', 'account', 'banks', 'need', 'woman', 'church', 'argument', 'woman', 'things', 'dress', 'bag', 'place', 'station', 'things', 'locker', 'dime', 'morning', 'time', 'thing', 'money', 'envelope', 'purse', 'drawer', 'hour', 'Katya', 'shopping', 'need', 'note', 'life', 'life', 'chance', 'Katharine', 'Ross', 'shop', 'money', 'clothes', 'manners', 'people', 'ones', 'names', 'ones', 'church', 'place', 'job', 'people', 'hair', 'way', 'kinds', 'clothes', 'Katharine', 'Ross', 'change', 'customer', 'Katya', 'amount', 'silence', 'voices', 'future', 'people', 'Katharine', 'Katharine', 'lots', 'fun', 'Katharine', 'Mendoza', 'day', 'thermometer', 'Alison', 'coffee', 'desk', 'drawers', 'cigarettes', 'handbag', 'cigarette', 'bottom', 'face', 'powder', 'note', 'desk', 'liver', 'Bast', 'dish', 'trifle', 'middle', 'litters', 'vision', 'apartment', 'overrun', 'dozen', 'kittens', 'lot', 'people', 'cats', 'thing', 'world', 'homes', 'kittens', 'kittens', 'months', 'pity', 'figure', 'kittens', 'vet', 'fix', 'ankles', 'nose', 'hall', 'Lolotte', 'beau', 'Emile', 'line', 'door', 'Sarah', 'Maude', 'Miss', 'bed', 'door', 'inch', 'keys', 'bundle', 'keys', 'cord', 'hand', 'use', 'smokehouse', 'storehouse', 'coffee', 'coffee', 'Maude', 'throat', 'Sarah', 'Maude', 'cup', 'hoop', 'start', 'door', 'nose', 'Ben', 'Lucien', 'book', 'friend', 'ice', 'floes', 'bloodhounds', 'Mrs.', 'Stowe', 'Ben', 'course', 'paterollers', 'help', 'cavalry', 'outfit', 'God', 'time', 'Sarah', 'coffee', 'coffee', 'cup', 'Lucien', 'opium', 'Lucien', 'demands', 'money', 'provisions', 'marriage', 'contract', 'Lucien', 'sum', 'gold', 'floorboards', 'office', 'war', 'estate', 'time', 'minute', 'Lucien', 'person', 'house', 'opium', 'coffee', 'bottle', 'opium', 'trip', 'day', 'Honotassa', 'talk', 'Emile', 'dinner', 'Emile', 'Rilly', 'Glendora', 'room', 'clothes', 'room', 'opium', 'odor', 'Lucien', 'opium', 'Honotassa', 'plan', 'demand', 'gold', 'yielding', 'fool', 'right', 'Rev', 'danger', 'skin', 'Lolotte', 'Maude', 'hall', 'door', 'Sarah', 'Lucien', 'Emile', 'draft', 'room', 'bedroom', 'door', 'rim', 'blackness', 'hall', 'Lolotte', 'bottle', 'opium', 'opium', 'death', 'stretch', 'imagination', 'doubts', 'suspicions', 'questions', 'fact', 'dose', 'opium', 'cup', 'Honotassa', 'amount', 'logic', 'argument', 'fact', 'coffee', 'drunk', 'taste', 'attempt', 'Maude', 'cat', 'routine', 'sense', 'life', 'room', 'moire', 'bag', 'envelope', 'marriage', 'contract', 'wax', 'seal', 'money', 'Rev', 'Rev', 'wax', 'seal', 'contract', 'Rev', 'Honotassa', 'part', 'breath', 'body', 'Rev', 'need', 'money', 'Rev', 'poison', 'envelope', 'bag', 'point', 'armoire', 'barn', 'horse', 'likelihood', 'person', 'house', 'terms', 'marriage', 'contract', 'point', 'fool', 'shock', 'Glendora', 'room', 'moccasins', 'Sarah', 'coffee', 'room', 'Glendora', 'work', 'morning', 'Miss', 'Sarah', 'Sarah', 'kind', 'constriction', 'throat', 'Miss', 'Maude', 'kitchen', 'Glendora', 'dish', 'rice', 'breakfast', 'morning', 'Miss', 'Sarah', 'Sarah', 'chill', 'Maude', 'Glendora', 'rice', 'opium', 'taste', 'grain', 'salt', 'passageway', 'rain', 'vines', 'kitchen', 'Glendora', 'chickens', 'basket', 'Sarah', 'storehouse', 'Glendora', 'chicken', 'flurry', 'feathers', 'drizzle', 'storehouse', 'Sarah', 'key', 'door', 'room', 'root', 'cellar', 'soil', 'vines', 'Glendora', 'amounts', 'peas', 'eggs', 'cornmeal', 'salt', 'shelves', 'Miss', 'Celie', 'storeroom', 'men', 'mouths', 'Glendora', 'smokehouse', 'satisfaction', 'quantity', 'hams', 'sides', 'bacon', 'rafters', 'fields', 'life', 'Maude', 'Maude', 'Glendora', 'house', 'basket', 'apron', 'moment', 'rain', 'trees', 'head', 'Maude', 'Maude', 'opportunity', 'bottle', 'opium', 'room', 'Maude', 'ruthlessness', 'mind', 'death', 'Maude', 'reason', 'Maude', 'attempt', 'Maude', 'Sarah', 'Maude', 'Sarah', 'Maude', 'Emile', 'reason', 'use', 'drizzle', 'link', 'murder', 'opium', 'cup', 'coffee', 'house', 'light', 'office', 'door', 'scene', 'realm', 'murder', 'murder', 'Rev', 'George', 'Lolotte', 'shoes', 'lamp', 'table', 'day', 'boot', 'George', 'tack', 'hammer', 'Lolotte', 'patch', 'leather', 'Rev', 'brad', 'hammer', 'George', 'thing', 'Vicksburg', 'Yankee', 'boots', 'Lolotte', 'Rev', 'Lolotte', 'George', 'way', 'way', 'appearance', 'Rev', 'Sarah', 'news', 'news', 'Sarah', 'Maude', 'face', 'George', 'Lolotte', 'shop', 'Sarah', 'office', 'circle', 'lamplight', 'patch', 'leather', 'hands', 'George', 'tack', 'hammer', 'atmosphere', 'attempt', 'murder', 'rush', 'panic', 'Sarah', 'kitchen', 'Glendora', 'words', 'office', 'question', 'face', 'rain', 'face', 'schoolgirl', 'tales', 'kitchen', 'door', 'answer', 'opium', 'Lucien', 'husband', 'marriage', 'love', 'marriage', 'Rev', 'confidant', 'Lucien', 'Lucien', 'coffee', 'opium', 'Maude', 'kitchen', 'door', 'breath', 'opium', 'attempt', 'kitchen', 'Glendora', 'chickens', 'Maude', 'lamp', 'chimneys', 'Glendora', 'gulp', 'Miss', 'Sarah', 'chicken', 'Miss', 'Maude', 'details', 'living', 'attempt', 'details', 'requirements', 'urgency', 'matter', 'dinner', 'chickens', 'look', 'fury', 'time', 'verbs', 'night', 'reason', 'fellows', 'friends', 'wife', 'women', 'wife', 'friends', 'husband', 'trouble', 'Conrad', 'world', 'Rourke', 'Black', 'friend', 'way', 'Jacobs', 'woman', 'secretary', 'Gilborn', 'Black', 'Conrad', 'Gilborn', 'office', 'day', 'Mrs.', 'Gilborn', 'hell', 'corpses', 'trouble', 'corpse', 'Conrad', 'telephone-booth', 'bench', 'leg', 'watch', 'minutes', 'confession', 'Lionel', 'Black', 'experience', 'stage', 'Black', 'man', 'day', 'day', 'death', 'Stanley', 'Gilborn', 'attention', 'October', 'wind', 'Conrad', 'Gilborn', 'destination', 'street', 'corners', 'traffic', 'lights', 'people', 'coat', 'Kitti', 'Conrad', 'thinking', 'succession', 'picture-images', 'mind', 'ones', 'ones', 'sequence', 'succession', 'enormity', 'Conrad', 'Gilborn', 'degree', 'realism', 'actuality', 'words', 'meaning', 'wife', 'Gilborn', 'words', 'sense', 'Conrad', 'truth', 'Kitti', 'pressure', 'hand', 'arm', 'center', 'life', 'sun', 'planet', 'rest', 'world', 'years', 'no-goal', 'plan', 'reason', 'Kitti', 'goal', 'reason', 'life', 'time', 'possibility', 'one-thousandth', 'second', 'infidelity', 'walk', 'front', 'hotel', 'building', 'doorman', 'head', 'Gilborn', 'night', 'Gilborn', 'curiosity', 'Gilborn', 'lobby', 'elevator', 'thoughts', 'apartment', 'police', 'evidence', 'Kitti', 'coat', 'chair', 'bedroom', 'door', 'surroundings', 'truth', 'anger', 'Kitti', 'sense', 'left-hand', 'entry', 'ledger', 'right-hand', 'school', 'days', 'victim', 'killer', 'wife', 'chair', 'coat', 'bedroom', 'bed', 'signs', 'Kitti', 'Gilborn', 'time', 'bed', 'bed', 'Kitti', 'Gilborn', 'Kitti', 'bed', 'minutes', 'Stanley', 'Gilborn', 'end', 'half-hour', 'brains', 'Kitti', 'friends', 'past', 'bedroom', 'answer', 'Gilborn', 'coat', 'look', 'apartment', 'street', 'Stanley', 'Gilborn', 'figure', 'Blanche', 'Jacobs', 'Kitti', 'death', 'effect', 'Blanche', 'death', 'source', 'hope', 'defense', 'hope', 'figures', 'worksheet', 'paper', 'front', 'typewriter', 'Stanley', 'comfort', 'companionship', 'lunch', 'hour', 'fear', 'concern', 'Stanley', 'hunger', 'Men', 'men', 'Stanley', 'actions', 'years', 'Stanley', 'things', 'Stanley', 'men', 'dentist', 'night', 'instance', 'Dinner', 'movies', 'night', 'coffee', 'kitchen', 'kettle', 'water', 'chance', 'arms', 'shoulders', 'scratch', 'face', 'panic', 'Stanley', 'Stanley', 'morning', 'morning', 'day', 'Blanche', 'conclusion', 'week', 'Stanley', 'proposal', 'years', 'mother', 'future', 'Blanche', 'composure', 'face', 'carping', 'urgings', 'date', 'possibility', 'matrimony', 'Blanche', 'matter', 'time', 'Stanley', 'Stanley', 'step', 'Stanley', 'life', 'love', 'faith', 'woman', 'result', 'day', 'woman', 'world', 'woman', 'love', 'faith', 'woman', 'husband', 'woman', 'love', 'Blanche', 'Stanley', 'Stanley', 'announcement', 'day', 'Blanche', 'mind', 'Kitti', 'Walker', 'Blanche', 'Kitti', 'years', 'Stanley', 'Stanley', 'Stanley', 'right', 'Kitti', 'score', 'men', 'reason', 'Stanley', 'Gilborn', 'need', 'Stanley', 'Kitti', 'office', 'recommendation', 'help', 'income', 'tax', 'return', 'Stanley', 'return', 'lunch', 'hour', 'Kitti', 'Blanche', 'door', 'office', 'Stanley', 'hour', 'day', 'Blanche', 'mornings', 'Stanley', 'afternoons', 'days', 'Blanche', 'behavior', 'Kitti', 'Walker', 'weeks', 'day', 'Kitti', 'office', 'Stanley', 'Kitti', 'Blanche', 'surprise', 'congratulations', 'night', 'honeymoon', 'Acapulco', 'Blanche', 'office', 'morning', 'things', 'Stanley', 'week', 'stupor', 'things', 'habit', 'week', 'manner', 'morning', 'return', 'strength', 'hours', 'face', 'humming', 'figures', 'Blanche', 'days', 'days', 'others', 'Blanche', 'bed', 'mother', 'doctor', 'doctor', 'fingerprint', 'man', 'prints', 'killer', 'top-grade', 'piano', 'player', 'piano', 'staccato', 'passage', 'attack', 'change', 'manner', 'killing', 'Rose', 'Mallory', 'hands', 'bucket', 'snap', 'ball', 'way', 'mantel', 'hands', 'floor', 'ballet', 'dancer', 'laughs', 'Rose', 'killer', 'way', 'cinch', 'stretch', 'pants', 'flowers', 'hair', 'Felix', 'boy', 'hall', 'apartment', 'trouble', 'Felix', 'seriousness', 'time', 'Felix', 'afternoon', 'children', 'souls', 'people', 'sort', 'interest', 'noisemakers', 'paper', 'hats', 'Felix', 'exception', 'hat', 'horn', 'fun', 'idea', 'Felix', 'second-floor', 'hall', 'boys', 'examination', 'body', 'autopsy', 'meat', 'wagon', 'front', 'house', 'cluster', 'squad', 'cars', 'cop', 'door', 'comings', 'goings', 'crowd', 'onlookers', 'street', 'couple', 'cops', 'distance', 'place', 'moment', 'taxpayer', 'householder', 'landlord', 'festivities', 'party', 'sobriety', 'sense', 'symptoms', 'effects', 'alcohol', 'system', 'paper', 'hat', 'paper', 'hat', 'addition', 'sculptor', 'dame', 'back', 'yard', 'interest', 'paper', 'hats', 'Mr.', 'paper', 'horn', 'fist', 'entrance', 'greeting', 'friends', 'tenants', 'house', 'focus', 'public', 'police', 'attention', 'circumstances', 'situation', 'paper', 'horn', 'forgetfulness', 'way', 'cluster', 'cop', 'door', 'head', 'door', 'stairs', 'upstairs', 'owner', 'house', 'knowledge', 'house', 'control', 'hat', 'head', 'horn', 'hand', 'handiwork', 'back', 'yard', 'tenants', 'apparition', 'Felix', 'stairs', 'course', 'reaction', 'Felix', 'hat', 'horn', 'stairs', 'dance', 'hat', 'horn', 'lips', 'flute', 'fingerprint', 'expert', 'man', 'Felix', 'Felix', 'head', 'laugh', 'timbers', 'house', 'bull', 'man', 'face', 'teeth', 'teeth', 'time', 'dentures', 'hair', 'way', 'back', 'neck', 'fringe', 'hair', 'teeth', 'man', 'mass', 'dwarf', 'bit', 'figure', 'man', 'torso', 'arms', 'feet', 'Felix', 'bit', 'stretch', 'measurement', 'man', 'side', 'freak', 'moments', 'stock', 'manner', 'Esquire', 'country', 'weekend', 'sports', 'jacket', 'slacks', 'flannel', 'shirt', 'silk', 'necktie', 'eyes', 'alcohol', 'scent', 'gusts', 'laughter', 'whiff', 'Felix', 'Gibby', 'Latin', 'Gibby', 'name', 'Felix', 'world', 'blokes', 'hearts', 'scene', 'things', 'Gibby', 'rest', 'name', 'rest', 'Felix', 'past', 'historians', 'Felix', 'present', 'present', 'Felix', 'future', 'time', 'man', 'Gibby', 'philosophers', 'gentleman', 'police', 'officer', 'fingerprint', 'specialist', 'future', 'future', 'bit', 'space', 'friend', 'finger', 'tips', 'joy', 'ecstasy', 'whorls', 'fingerprints', 'hall', 'flight', 'stairs', 'Gibby', 'night', 'Past', 'record', 'name', 'Felix', 'Grubb', 'Felix', 'Felix', 'Grubb', 'Gibby', 'Felix', 'world', 'Gibby', 'voice', 'Felix', 'Grubb', 'Edmund', 'years', 'years', 'Felix', 'thing', 'birthday', 'court', 'years', 'man', 'stairs', 'leap', 'number', 'broth', 'boy', 'Felix', 'joy', 'juice', 'spirit', 'stairs', 'cops', 'Connor', 'foursome', 'floor', 'Nancy', 'Jean', 'guarantee', 'fingerprint', 'record', 'case', 'ladies', 'extent', 'world', 'killer', 'group', 'fingerprint', 'evidence', 'way', 'bit', 'information', 'situation', 'way', 'chances', 'Felix', 'studio', 'space', 'top', 'house', 'ceiling', 'heights', 'angles', 'roof', 'slope', 'angle', 'pitch', 'skylight', 'roof', 'skylights', 'systems', 'screens', 'shades', 'Felix', 'door', 'shades', 'studio', 'night', 'shades', 'skylights', 'screens', 'others', 'place', 'adjustments', 'fruit', 'experience', 'movements', 'process', 'trial', 'error', 'room', 'things', 'place', 'light', 'point', 'crack', 'glare', 'display', 'works', 'progress', 'work', 'work', 'table', 'pedestal', 'shape', 'sheet', 'tarpaulin', 'shapes', 'telling', 'equipment', 'condition', 'comfort', 'convenience', 'efficiency', 'tools', 'confusion', 'litter', 'Supplies', 'sheet', 'metal', 'bins', 'Andy', 'newspapers', 'day', 'staff', 'Ed', 'Thornburg', 'Andy', 'morning', 'aid', 'capsule', 'crutch', 'afternoon', 'Memory', 'instant', 'eyes', 'feeling', 'stomach', 'window', 'summer', 'day', 'sun', 'Drew', 'world', 'cant', 'contrary', 'Hub', 'chair', 'hall', 'door', 'sleep', 'alertness', 'entrance', 'Mr.', 'Paxton', 'Lot', 'people', 'Reporters', 'people', 'Questions', 'show', 'Hub', 'telephone', 'Lissa', 'Hub', 'plenty', 'guts', 'Mr.', 'Paxton', 'Hub', 'head', 'Andy', 'reason', 'Lissa', 'omission', 'outsiders', 'Andy', 'motions', 'sake', 'appearances', 'time', 'afternoon', 'evening', 'suite', 'procession', 'Paxton', 'aides', 'problem', 'Thornburg', 'writers', 'morning', 'act', 'songs', 'patter', 'view', 'relations', 'verve', 'least', 'circumstances', 'Raymond', 'Fox', 'orchestra', 'case', 'Charlie', 'Marble', 'occasions', 'Andy', 'advisability', 'Las', 'Vegas', 'engagement', 'comedian', 'agency', 'client', 'date', 'Bake', 'liquor', 'breath', 'Andy', 'job', 'El', 'Dorado', 'minute', 'arrangements', 'Rocco', 'Vecchio', 'time', 'Hub', 'reporters', 'lobby', 'Andy', 'service', 'entrance', 'car', 'Hub', 'hotel', 'chance', 'nightclub', 'El', 'Dorado', 'mob', 'lot', 'progress', 'automobile', 'protection', 'stage', 'door', 'Andy', 'Word', 'arrival', 'crowd', 'brushfire', 'fingers', 'eyes', 'gathering', 'Andy', 'difference', 'hero-worshippers', 'Thornburg', 'Andy', 'table', 'heading', 'wind', 'contrast', 'co-workers', 'distance', 'tragedy', 'room', 'bouquet', 'card', 'way', 'troupe', 'Andy', 'Shirl', 'Winter', 'note', 'thanks', 'call', 'board', 'Bake', 'Lou', 'DuVol', 'point', 'Andy', 'accomplishment', 'Bake', 'kind', 'job', 'Andy', 'Bake', 'Skolman', 'kind', 'system', 'crowd', 'kidnapper', 'table', 'message', 'Skolman', 'Skolman', 'scheme', 'time', 'Bonner', 'room', 'bone', 'Mr.', 'Paxton', 'loudspeakers', 'Andy', 'script', 'men', 'afternoon', 'thing', 'Bonner', 'cooperation', 'police', 'El', 'Dorado', 'battlefield', 'Motion', 'picture', 'cameras', 'audience', 'reservation', 'list', 'name', 'name', 'detail', 'work', 'parking', 'lot', 'automobiles', 'lead', 'mob', 'Bonner', 'manpower', 'purpose', 'speakers', 'Andy', 'eye', 'eye', 'p.', 'a.', 'system', 'shot', 'audience', 'faces', 'sign', 'car', 'Andy', 'script', 'fist', 'Bonner', 'help', 'Bonner', 'will', 'job', 'imagination', 'routine', 'procedures', 'helplessness', 'Bonner', 'crime', 'planning', 'kidnappers', 'checklist', 'performance', 'half-hour', 'Vecchio', 'ransom', 'money', 'Bake', 'Shirl', 'Winter', 'telephones', 'location', 'Los', 'Angeles', 'information', 'efforts', 'Bake', 'Peru', 'money', 'Thornburg', 'Andy', 'smoke', 'signals', 'Bake', 'bunch', 'sippers', 'Thornburg', 'voice', 'Andy', 'jury', 'audience', 'Andy', 'Hub', 'stage', 'door', 'Rock', 'number', 'signal', 'Shirl', 'Winter', 'phone', 'Mr.', 'Paxton', 'couple', 'call-backs', 'sweetheart', 'line', 'Andy', 'corridor', 'lucks', 'performance', 'act', 'shreds', 'afternoon', 'result', 'polish', 'pace', 'cohesion', 'night', 'luck', 'show', 'Andy', 'audience', 'hours', 'performer', 'freak', 'framework', 'patter', 'numbers', 'blues', 'songs', 'melancholy', 'effect', 'gravestone', 'applause', 'Andy', 'words', 'meaning', 'listeners', 'clapping', 'evening', 'show', 'person', 'Andy', 'finale', 'act', 'commotion', 'attention', 'wings', 'Rocco', 'Vecchio', 'Vecchio', 'men', 'uniforms', 'transport', 'guards', 'Vecchio', 'suitcase', 'Andy', 'heart', 'relief', 'Fox', 'finale', 'introduction', 'music', 'breath', 'Ladies', 'gentlemen', 'place', 'number', 'nature', 'Ray', 'gasp', 'audience', 'particular', 'song', 'particular', 'time', 'taste', 'exploitation', 'bounds', 'decency', 'choice', 'microphone', 'support', 'Lullaby', 'voice', 'time', 'life', 'lyrics', 'rest', 'audience', 'scorn', 'silence', 'lights', 'Andy', 'number', 'patrons', 'way', 'exit', 'God', 'God', 'Hub', 'Mr.', 'Paxton', 'moment', 'Bunch', 'jerks', 'Hub', 'Thornburg', 'arm', 'Andy', 'words', 'Thornburg', 'image', 'Humpty', 'Dumpty', 'horses', 'men', 'Vecchio', 'Andy', 'God', 'places', 'life', 'deals', 'Andy', 'Rock', 'part', 'knowledge', 'room', 'crowd', 'place', 'air', 'morgue', 'Andy', 'desire', 'Hub', 'mob', 'efforts', 'police', 'son', 'hall', 'sight', 'man', 'room', 'man', 'Arthur', 'suitcase', 'door', 'favor', 'Ferguson', 'opinion', 'man', 'room', 'stare', 'brows', 'eyes', 'memory', 'truth', 'Bartlett', 'girl', 'Mr.', 'son', 'Rossi', 'Ferguson', 'street', 'kid', 'sort', 'evidence', 'bundle', 'clothes', 'kid', 'crime', 'facts', 'kids', 'lot', 'kind', 'affair', 'God', 'man', 'cane', 'God', 'father', 'woman', 'work', 'Dronk', 'house', 'trouble', 'man', 'Arthur', 'Mrs.', 'Arthur', 'oven', 'odor', 'biscuits', 'man', 'door', 'sunlight', 'time', 'door', 'face', 'Mrs.', 'Holden', 'window', 'draperies', 'room', 'overalls', 'room', 'windows', 'Dronk', 'boy', 'lip', 'cotton', 'dress', 'hips', 'way', 'yoke', 'skirt', 'pleats', 'skirt', 'windows', 'earth', 'work', 'excuse', 'Mr.', 'energy', 'phone', 'office', 'Mae', 'Mr.', 'neck', 'order', 'things', 'voice', 'time', 'cops', 'grin', 'mouth', 'teeth', 'phone', 'dark', 'clothes', 'yelp', 'Mr.', 'Ferguson', 'questions', 'receiver', 'holder', 'eyes', 'anticipation', 'office', 'Mr.', 'Holden', 'phone', 'chair', 'window', 'breeze', 'face', 'hat', 'closet', 'moment', 'office', 'pain', 'chest', 'pounding', 'head', 'receptionist', 'office', 'while', 'Crosson', 'Crosson', 'roof', 'car', 'key', 'switch', 'accelerator', 'foot', 'car', 'reverse', 'endeavors', 'ability', 'body', 'street', 'traffic', 'gadfly', 'maze', 'highway', 'outskirts', 'city', 'curb', 'minutes', 'air', 'eyes', 'tears', 'earth', 'mind', 'cops', 'sense', 'motives', 'trouble', 'police', 'cops', 'interest', 'neighborhood', 'questions', 'moment', 'sinking', 'despair', 'dying', 'hopes', 'Mae', 'kind', 'word', 'neighbors', 'suspicions', 'police', 'thoughts', 'scene', 'Mae', 'child', 'intentions', 'scene', 'mind', 'interior', 'garage', 'house', 'Bartlett', 'girl', 'dark', 'confusion', 'fear', 'brightness', 'Mae', 'light', 'cops', 'hold', 'idea', 'girl', 'scene', 'staginess', 'smell', 'suspicion', 'mind', 'course', 'Mae', 'thing', 'accidents', 'hands', 'murder', 'wheel', 'sunlight', 'order', 'thoughts', 'use', 'territory', 'nightmare', 'Mae', 'wife', 'destruction', 'conviction', 'truth', 'hope', 'safety', 'hand', 'brake', 'road', 'bidding', 'road', 'scenes', 'side', 'stretch', 'orange', 'groves', 'trees', 'area', 'tract', 'houses', 'feeling', 'car', 'place', 'Mae', 'gate', 'Cooper', 'car', 'curb', 'steps', 'office', 'man', 'Arthur', 'attitude', 'Holden', 'gas', 'idea', 'police', 'fears', 'neighborhood', 'Mae', 'scene', 'mind', 'moment', 'jerkings', 'snivelings', 'patience', 'mercy', 'Mae', 'dragons', 'worry', 'suspense', 'Mae', 'moment', 'Holden', 'brakes', 'Cooper', 'Ferguson', 'relief', 'sign', 'door', 'hope', 'Holden', 'insight', 'people', 'nights', 'footstep', 'destruction', 'hope', 'Hand', 'hand', 'hope', 'things', 'terror', 'apprehension', 'Holden', 'hand', 'street', 'space', 'garage', 'car', 'door', 'street', 'car', 'sight', 'Holden', 'front', 'door', 'Mae', 'room', 'hallway', 'kitchen', 'cup', 'coffee', 'hand', 'piece', 'toast', 'Holden', 'piece', 'toast', 'mouth', 'corner', 'chomp', 'teeth', 'Mae', 'toast', 'pair', 'overalls', 'garage', 'time', 'porch', 'house', 'grease', 'guard', 'preparation', 'kind', 'disaster', 'minute', 'garage', 'couple', 'days', 'rags', 'police', 'overalls', 'knees', 'paint', 'color', 'Mae', 'cup', 'coffee', 'head', 'bite', 'toast', 'Holden', 'side', 'cheek', 'slab', 'fat', 'neck', 'goodness', 'police', 'truth', 'coldness', 'being', 'nerves', 'tips', 'fingers', 'spine', 'icicle', 'moment', 'overalls', 'man', 'sketch', 'pad', 'hand', 'woman', 'office', 'end', 'corridor', 'pencil', 'lines', 'paper', 'Mrs.', 'MacReady', 'eyebrows', 'part', 'hotel', 'things', 'busboy', 'mouth', 'Men', 'dust', 'objects', 'room', 'floor', 'room', 'tenement', 'men', 'vacuum', 'cleaners', 'rooms', 'dust', 'Men', 'job', 'time', 'issue', 'overnighters', 'couples', 'Mr.', 'Mrs.', 'Anthony', 'Payne', 'noon', 'day', 'Gardner', 'Willings', 'Dumont', 'week', 'course', 'reason', 'man', 'woman', 'hotel', 'place', 'identification', 'starts', 'names', 'addresses', 'verification', 'time', 'water', 'Dumont', 'night', 'husband', 'Boston', 'course', 'street', 'problems', 'lodgings', 'people', 'suburbs', 'show', 'heaven', 'streets', 'railroad', 'stations', 'hours', 'night', 'stations', 'homes', 'rain', 'November', 'Dumont', 'overnighters', 'rooms', 'people', 'overnighters', 'guests', 'attention', 'rooms', 'street', 'roof', 'room', 'reason', 'murderer', 'guest', 'hotel', 'shot', 'hotel', 'roofs', 'business', 'feet', 'question', 'way', 'example', 'man', 'rifle', 'sight', 'course', 'hope', 'sniper', 'marksman', 'murderer', 'intent', 'vantage', 'point', 'rifle', 'shoulder', 'tune', 'rifle', 'suitcase', 'suitcase', 'matter', 'Shrugs', 'room', 'clerks', 'bellhops', 'attention', 'Cases', 'instruments', 'Dumont', 'combo', 'week', 'Shrugs', 'Pearson', 'time', 'refuse', 'bin', 'Dumont', 'box', 'box', 'flowers', 'Traces', 'oil', 'tissue', 'lab', 'lab', 'oil', 'man', 'ocelot', 'Dumont', 'guest', 'wheel', 'chair', 'guest', 'head', 'foot', 'crutches', 'man', 'St.', 'Vitus', 'head', 'reports', 'William', 'Weigand', 'centrifuge', 'head', 'Mullins', 'sign', 'Mrs.', 'Lauren', 'Payne', 'house', 'Ridgefield', 'Connecticut', 'house', 'acres', 'plenty', 'cops', 'time', 'time', 'word', 'word', 'Weigand', 'news', 'centrifuge', 'things', 'move', 'motive', 'moment', 'opportunity', 'Payne', 'party', 'minutes', 'Hathaway', 'publicity', 'director', 'Livingston', 'Birdwood', 'producer', 'Payne', 'Gardner', 'Willings', 'scuffle', 'time', 'prey', 'Intangibles', 'hunches', 'facts', 'Willings', 'Willings', 'Willings', 'average', 'shot', 'hunch', 'Willings', 'legs', 'reason', 'Willings', 'moment', 'legs', 'Ambushes', 'man', 'tiger', 'Faith', 'Constable', 'party', 'motive', 'motive', 'part', 'fact', 'mind', 'dereliction', 'Grudges', 'mind', 'Faith', 'Constable', 'quarter', 'century', 'wrong', 'Bill', 'head', 'side', 'barn', 'shotgun', 'Lauren', 'party', 'headache', 'lack', 'opportunity', 'gun', 'suitcase', 'Payne', 'luggage', 'Motive', 'husband', 'jealousy', 'Heaven', 'hell', 'primitive', 'Lauren', 'Payne', 'circles', 'Bill', 'Weigand', 'hunch', 'basis', 'eliminations', 'number', 'possibilities', 'mother', 'son', 'mother', 'son', 'Opportunity', 'Motive', 'cause', 'years', 'bitterness', 'cause', 'boy', 'boy', 'Mrs.', 'MacReady', 'Mullins', 'months', 'college', 'busboy', 'man', 'youth', 'bitterness', 'Bill', 'telephone', 'Mullins', 'pickup', 'Mrs.', 'Mason', 'boy', 'Bill', 'Mullins', 'man', 'Lars', 'Simon', 'playwright-director', 'wish', 'Anthony', 'Payne', 'course', 'wish', 'things', 'opportunity', 'man', 'Blaine', 'Smythe', 'y', 'e', 'insistence', 'Pam', 'North', 'acquaintance', 'Lauren', 'connection', 'things', 'connection', 'murder', 'opportunity', 'Mullins', 'Mullins', 'man', 'captain', 'desk', 'hand', 'seat', 'Bill', 'Weigand', 'wall', 'crack', 'plaster', 'Mullins', 'seat', 'Stein', 'cats', 'Stilts', 'bed', 'cat', 'cats', 'heads', 'tails', 'hand', 'legs', 'Pamela', 'North', 'cats', 'cats', 'humans', 'door', 'ears', 'Pam', 'dinnertime', 'cat', 'cats', 'voice', 'Stilts', 'cat', 'bed', 'kitchen', 'hell', 'dinnertime', 'tails', 'Pam', 'North', 'tale', 'tails', 'Martha', 'cats', 'Pam', 'cigarette', 'chaise', 'thoughts', 'time', 'thoughts', 'trouble', 'feeling', 'Anthony', 'Payne', 'thought', 'event', 'Faith', 'explanation', 'confidence', 'thought', 'deal', 'boy', 'trays', 'adulation', 'man', 'rifle', 'Pam', 'answers', 'hope', 'kid', 'kid', 'people', 'luck', 'luck', 'people', 'order', 'size', 'telephone', 'Pam', 'surprise', 'afternoon', 'martinis', 'lunch', 'trouble', 'voice', 'music', 'words', 'music', 'voice', 'Pam', 'information', 'Mrs.', 'Constable', 'cry', 'help', 'Faith', 'Constable', 'door', 'Madden', 'door', 'police', 'chief', 'gift', 'horse', 'suspicion', 'face', 'look', 'collusion', 'murderer', 'member', 'household', 'precaution', 'door', 'herring', 'job', 'cellar', 'window', 'hope', 'death', 'Pauling', 'house', 'cellar', 'window', 'police', 'investigation', 'pane', 'glass', 'telephone', 'receiver', 'Police', 'chief', 'mouthpiece', 'Mr.', 'Benson', 'hand', 'pad', 'pencil', 'notes', 'intervals', 'Mr.', 'Benson', 'doubt', 'mind', 'Coroner', 'Madden', 'pathologist', 'Mrs.', 'Meeker', 'suffocation', 'Pauling', 'notes', 'hemorrhages', 'lungs', 'particles', 'lint', 'thread', 'mouth', 'nostrils', 'Scrapings', 'bed', 'linen', 'lint', 'thread', 'cavities', 'cause', 'death', 'Trachea', 'mucus', 'objects', 'Brain', 'thrombosis', 'clot', 'hemorrhage', 'signs', 'gross', 'hemorrhage', 'lungs', 'heart', 'brain', 'stomach', 'time', 'death', 'duration', 'process', 'pathologist', 'stomach', 'findings', 'tract', 'Mrs.', 'Meeker', 'hours', \"seven-o'clock\", 'dinner', 'midnight', 'hour', 'way', 'Pauling', 'problem', 'course', 'Johnston', 'murderer', 'possibility', 'Pauling', 'prospects', 'motives', 'evidence', 'Johnston', 'light', 'Madden', 'investigation', 'fraud', 'Bronx', 'bank', 'Mrs.', 'checks', 'Johnston', 'Arthur', 'Williams', 'collusion', 'Johnston', 'fraud', 'Mrs.', 'murderer', 'part', 'death', 'suggestion', 'police', 'chief', 'head', 'Arthur', 'Williams', 'fraud', 'murder', 'identity', 'Medfield', 'police', 'Johnston', 'Scholarship', 'applicant', 'Pauling', 'Madden', 'application', 'Mrs.', 'Meeker', 'phone', 'Brian', 'Thayer', 'lunch', 'date', 'Madden', 'call', 'Mrs.', 'lawyers', 'Mr.', 'Hohlbein', 'day', 'Mr.', 'Garth', 'tone', 'appointment', 'notice', 'concession', 'Madden', 'lawyers', 'lunch', 'Pauling', 'suite', 'offices', 'building', 'Garth', 'sight', 'clothes', 'haircut', 'smile', 'shade', 'man', 'thirties', 'handclasp', 'man', 'make', 'Madden', 'fashion', 'junior', 'partner', 'firm', 'ambitions', 'Mrs.', 'Garth', 'wife', 'lawyer', 'children', 'boys', 'girl', 'Jaycee', 'opinion', 'wedding', 'day', 'Madden', 'Garth', 'Garth', 'distaste', 'unfortunate', 'Johnston', 'affair', 'Mrs.', 'Meeker', 'Mr.', 'Hohlbein', 'Madden', 'fault', 'statement', 'copy', 'Mrs.', 'will', 'Garth', 'date', 'October', 'eye', 'habit', 'wills', 'reason', 'Mr.', 'death', 'estate', 'distribution', 'groups', 'scholarship', 'fund', 'time', 'will', 'Mr.', 'Hohlbein', 'age', 'changes', 'Garth', 'Mr.', 'Hohlbein', 'lapses', 'year', 'years', 'unfortunate', 'Johnston', 'affair', 'confidence', 'inspector', 'Mrs.', 'Meeker', 'advice', 'tongue', 'pompousness', 'ribbons', 'Hohlbein', 'affairs', 'Madden', 'will', 'millions', 'center', 'library', 'scholarship', 'fund', 'millions', 'Mrs.', 'lifetime', 'proviso', 'Brian', 'Thayer', 'duties', 'administrator', 'fund', 'satisfaction', 'board', 'trustees', 'bank', 'estate', 'capacity', 'salary', 'responsibilities', 'enlargement', 'fund', 'vote', 'confidence', 'Thayer', 'Madden', 'Tenure', 'bequests', 'list', 'names', 'great-nieces', 'Oregon', 'blood', 'relatives', 'millions', 'friend', 'Brian', 'Thayer', 'sum', 'dollars', 'Joan', 'Sheldon', 'bequest', 'event', 'Mrs.', 'employ', 'time', 'death', 'year', 'birthday', 'Mrs.', 'Meeker', 'care', 'Madden', 'Joan', 'Sheldon', 'bequest', 'Mr.', 'Hohlbein', 'Garth', 'names', 'Madden', 'Arthur', 'Mrs.', 'Meeker', 'fortune', 'search', 'provision', 'will', 'death', 'name', 'lawyers', 'Madden', 'point', 'Garth', 'people', 'idiosyncrasies', 'bit', 'number', 'money', 'Garth', 'trouble', 'contributions', 'plumber', 'bill', 'faucet', 'moment', 'scholarship', 'fund', 'unfortunate', 'Johnston', 'affair', 'telling', 'money', 'Madden', 'audit', 'scholarship', 'fund', 'audit', 'Garth', 'discrepancies', 'shortages', 'Brian', 'Thayer', 'administrator', 'salary', 'mark', 'expenses', 'lawyer', 'dinner', 'party', 'Thayer', 'Madden', 'man', 'hostesses', 'golf', 'clubs', 'work', 'lot', 'course', 'tendency', 'glance', 'watch', 'police', 'chief', 'insurance', 'man', 'Johnston', 'Mrs.', 'Meeker', 'theory', 'murder', 'thing', 'manner', 'routine', 'Hohlbein', 'Garth', 'rug', 'doubt', 'Mrs.', 'Meeker', 'time', 'grief', 'passing', 'dislike', 'lawyer', 'investigation', 'fraud', 'by-product', 'murder', 'door', 'Motive', 'bequest', 'glance', 'motive', 'man', 'standing', 'air', 'affluence', 'picture', 'inspector', 'thinking', 'note', 'background', 'Brian', 'Thayer', 'address', 'apartment', 'house', 'years', 'island', 'brick', 'glass', 'fringe', 'business', 'district', 'apartment', 'floor', 'bedroom', 'office', 'apartment', 'furniture', 'rugs', 'draperies', 'decorator', 'Madden', 'occupant', 'Dunston', 'rent', 'month', 'Medfield', 'Thayer', 'room', 'expense', 'account', 'Madden', 'room', 'office', 'desk', 'files', 'typewriter', 'stand', 'leather', 'armchairs', 'newspaper', 'stock-market', 'reports', 'Thayer', 'drink', 'inspector', 'interview', 'Thayer', 'time', 'day', 'Johnston', 'Thayer', 'head', 'death', 'murder', 'ways', 'enemy', 'Phil', 'career', 'Griffith', 'Hoag', 'steps', 'Hoag', 'wrought-iron', 'railing', 'rage', 'way', 'floor', 'quantity', 'champagne', 'Hoag', 'Leigh', 'captain', 'charge', 'Phil', 'sake', 'Midge', 'mind', 'couple', 'sobs', 'sentiment', 'state', 'hem', 'garment', 'Leigh', 'grip', 'Midge', 'security', 'information', 'minister', 'Griffith', 'eyes', 'Phil', 'leg', 'man', 'platform', 'morning', 'leg', 'captain', 'use', 'Hoag', 'darkness', 'head', 'message', 'Hoag', 'head', 'captain', 'shot', 'minister', 'Mahzeer', 'plot', 'circumstances', 'minister', 'Mahzeer', 'Griffith', 'ambassador', 'Griffith', 'head', 'champagne', 'fuzz', 'Mahzeer', 'minister', 'Hoag', 'john', 'office', 'flights', 'man', 'door', 'boy', 'Hoag', 'shoulders', 'Leigh', 'day', 'day', 'captain', 'words', 'Griffith', 'hands', 'Phil', 'way', 'house', 'way', 'marble', 'stairs', 'landing', 'Docherty', 'glass', 'champagne', 'swallows', 'Docherty', 'flight', 'way', 'Hoag', 'telling', 'champagne', 'landing', 'top', 'officer', 'progress', 'Docherty', 'Docherty', 'room', 'end', 'corridor', 'Docherty', 'Bonfiglio', 'Griffith', 'Hoag', 'minister', 'Mahzeer', 'Griffith', 'captain', 'plot', 'Docherty', 'ambassador', 'man', 'side', 'minister', 'minister', 'enemy', 'slaughter', 'chance', 'Mahzeer', 'man', 'Docherty', 'Docherty', 'fool', 'way', 'laundry', 'truck', 'play', 'friend', 'Hoag', 'information', 'corridor', 'head', 'office', 'look', 'Hoag', 'steps', 'Griffith', 'building', 'message', 'confidence', 'police', 'Mahzeer', 'minister', 'execution', 'Hoag', 'street', 'door', 'men', 'woman', 'sari', 'stairs', 'interior', 'men', 'women', 'wraps', 'departures', 'hour', 'reception', 'Mahzeer', 'minister', 'Muller', 'minutes', 'Hoag', 'stone', 'steps', 'street', 'building', 'windows', 'panes', 'stories', 'floor', 'faces', 'party', 'guests', 'scene', 'Christmas', 'card', 'floor', 'windows', 'drapes', 'faces', 'office', 'minister', 'window', 'desk', 'papers', 'Mahzeer', 'excuse', 'meeting', 'minute', 'minutes', 'business', 'Mahzeer', 'minister', 'Mahzeer', 'attention', 'window', 'side', 'shot', 'Hoag', 'sound', 'grave', 'Mahzeer', 'course', 'assassin', 'street', 'chance', 'Hoag', 'street', 'Muller', 'rifle', 'buildings', 'length', 'block', 'books', 'shelf', 'dozen', 'legation', 'building', 'line', 'angle', 'fire', 'buildings', 'side', 'shot', 'roof', 'eye', 'roof', 'copings', 'figure', 'form', 'buttons', 'badge', 'policeman', 'cop', 'road', 'Muller', 'building', 'minister', 'street', 'terminal', 'building', 'Hoag', 'street', 'cars', 'sidewalk', 'side', 'third-story', 'window', 'faces', 'occupants', 'hallway', 'police', 'captain', 'buildings', 'facades', 'club', 'others', 'windows', 'steps', 'door', 'vestibule', 'buildings', 'apartments', 'glance', 'hall', 'furnishings', 'town', 'house', 'owners', 'residence', 'place', 'man', 'plans', 'advance', 'building', 'aromas', 'vestibule', 'wall', 'brass', 'front', 'row', 'mailboxes', 'apartments', 'names', 'mailboxes', 'idea', 'boxes', 'letters', 'magazines', 'occupants', 'days', 'Muller', 'deduction', 'Muller', 'lore', 'mailboxes', 'door', 'odors', 'city', 'hour', 'housewives', 'stoves', 'body', 'flights', 'floor', 'balustrade', 'beauty', 'landing', 'breathing', 'door', 'light', 'bulb', 'lock', 'collection', 'keys', 'scars', 'door', 'lock', 'thrill', 'fear', 'door', 'touch', 'Muller', 'Muller', 'attempt', 'somewhere', 'control', 'man', 'street', 'cop', 'time', 'thoughts', 'report', 'rifle', 'side', 'door', 'Hoag', 'door', 'end', 'room', 'Muller', 'window', 'rifle', 'feet', 'kitchen', 'table', 'sill', 'head', 'source', 'disturbance', 'window', 'rifle', 'sight', 'Hoag', 'moment', 'contempt', 'encounter', 'apartment', 'Hoag', 'hand', 'wall', 'switch', 'evil', 'dark', 'room', 'light', 'instant', 'shot', 'Muller', 'window', 'deer', 'headlights', 'rifle', 'table', 'face', 'look', 'outrage', 'shot', 'pain', 'volley', 'shots', 'glass', 'ceiling', 'table', 'body', 'contact', 'floor', 'Hoag', 'hall', 'wall', 'Docherty', 'Arleigh', 'Griffith', 'Hoag', 'inspection', 'floor', 'report', 'man', 'floors', 'Griffith', 'stop', 'glass', 'champagne', 'safe', 'gum', 'machine', 'passageway', 'office', 'office', 'supply', 'closet', 'safe', 'repository', 'flashlight', 'batteries', 'left-hand', 'fingerprint', 'cards', 'stack', 'tickets', 'year', 'cents', 'coins', 'stamps', 'Gun', 'Hiram', 'Walker', 'safe', 'Killpath', 'ulcer', 'incursion', 'Herman', 'gift', 'matter', 'tact', 'business', 'office', 'gun', 'rack', 'rifles', 'gas', 'gun', 'gun', 'clerk', 'fumed-oak', 'desk', 'envelopes', 'Lieut', 'clerk', 'head', 'office', 'Gun', 'door', 'attention', 'Orville', 'Torrence', 'Killpath', 'uniform', 'hair', 'hair', 'Killpath', 'comb', 'thatches', 'umbrella', 'ribs', 'skull', 'lieutenant', 'reflection', 'mirror', 'washbowl', 'face', 'comb', 'head', 'Gun', 'Sam', 'Schaeffer', 'son', 'bitch', 'man', 'hell', 'Killpath', 'lids', 'reflection', 'chin', 'gesture', 'satisfaction', 'Gun', 'Killpath', 'desk', 'window', 'chair', 'Gun', 'Killpath', 'position', 'captain', 'swivel', 'chair', 'desk', 'repair', 'rest', 'furniture', 'room', 'file', 'cabinets', 'pulls', 'wardrobe', 'roof', 'seepage', 'seasons', 'Killpath', 'leg', 'arms', 'shinbone', 'knee', 'gut', 'posture', 'men', 'Killpath', 'ulcer', 'chin', 'kneecap', 'neck', 'turkey', 'block', 'sergeant', 'Gun', 'bell', 'doors', 'day', 'watch', 'Orville', 'hawk', 'nose', 'people', 'time', 'sir', 'confusion', 'congestion', 'chair', 'knee', 'stomach', 'eyes', 'Matson', 'sounds', 'squadroom', 'Roll', 'Gun', 'throat', 'Killpath', 'office', 'minutes', 'juice', 'orange', 'sir', 'Killpath', 'Gun', 'aces', 'back', 'back', 'lieutenant', 'ulcer', 'smile', 'time', 'day-watch', 'platoon', 'commander', 'Rinker', 'beat', 'assignments', 'Matson', 'names', 'station', 'morning', 'voice', 'idea', 'charge', 'time', 'Vaughn', 'sir', 'joke', 'couple', 'patrolmen', 'Sir', 'Vaughn', 'station', 'relief', 'patrolman', 'duties', 'station', 'keeper', 'regulation', 'sir', 'thing', 'Killpath', 'foot', 'chair', 'command', 'attitude', 'Matson', 'Gun', 'bastard', 'fool', 'stupidity', 'consolation', 'rank', 'district', 'sir', 'hand', 'papers', 'desk', 'inability', 'office', 'morning', 'knowledge', 'activities', 'sheet', 'paper', 'data', 'car', 'driveway', 'window', 'Gun', 'wagon', 'drunk-and-disorderlies', 'reason', 'men', 'transfer', 'detail', 'report', 'hand', 'Accacia', 'longhand', 'breath', 'Killpath', 'sheet', 'gold-wire', 'stems', 'glasses', 'ears', 'report', 'desk', 'Gunnar', 'Matson', 'station', 'keeper', 'watch', 'activities', 'whereabouts', 'section', 'sergeants', 'members', 'convenience', 'patrolman', 'assignment', 'station', 'commander', 'O.', 'T.', 'Killpath', 'homicide', 'district', 'establishments', 'spots', 'purposes', 'nature', 'glasses', 'Killpath', 'paper', 'desk', 'Matson', 'Accacia', 'words', 'Killpath', 'lips', 'Accacia', 'law-enforcement', 'officer', 'diligence', 'negligence', 'Matson', 'Negligence', 'Gun', 'breath', 'moment', 'volume', 'pitch', 'voice', 'trapdoor', 'throat', 'Sir', 'cop', 'station', 'night', 'murder', 'district', 'Schaeffer', 'Accacia', 'boy', 'procedure', 'bit', 'people', 'places', 'patience', 'danger', 'line', 'Killpath', 'insubordination', 'dereliction', 'duty', 'Gun', 'hands', 'fists', 'sides', 'jaws', 'fury', 'argument', 'Orville', 'Torrence', 'Killpath', 'cap', 'pistol', 'range', 'Killpath', 'arms', 'knee', 'umbrella', 'district', 'station', 'Gun', 'doorway', 'Morning', 'Rinker', 'Orville', 'time', 'head', 'Gun', 'sergeant', 'surprise', 'Matson', 'water', 'showers', 'Loren', 'Severe', 'stairs', 'bastard', 'cop', 'cigarettes', 'watch', 'session', 'office', 'counter', 'assembly', 'room', 'business', 'office', 'night', 'station', 'keeper', 'clerks', 'day-watch', 'playback', 'chewing', 'damn', 'grapevine', 'speech', 'comportment', 'platoon', 'commanders', 'captain', 'lieutenant', 'ass', 'station', 'night', 'Killpath', 'Gun', 'heels', 'hour', 'mid-watch', 'pencil-pusher', 'captain', 'doorway', 'morning', 'overcast', 'jacket', 'pockets', 'cigarettes', 'Doughnuttery', 'pack', 'way', 'road', 'Plymouth', 'lot', 'cypress', 'trees', 'station', 'morning', 'hour', 'spade', 'clods', 'earth', 'day', 'myriad', 'creatures', 'night', 'hour', 'community', 'Gun', 'tour', 'duty', 'neighborhood', 'Urbano', 'Quintana', 'day', 'Sol', 'Phillips', 'years', 'dollars', 'stock', 'will', 'name', 'gold', 'letters', 'display', 'windows', 'window', 'eye', 'level', 'print', 'gold', 'Gonzalez', 'Mr.', 'Phillips', 'razor', 'Gonzalez', 'promise', 'Spanish', 'clientele', 'Language', 'problem', 'Mr.', 'Phillips', 'doorway', 'aid', 'children', 'sidewalks', 'fact', 'business', 'time', 'year', 'salesgirl', 'Mr.', 'Phillips', 'worries', 'Gun', 'Matson', 'civilian', 'clothes', 'Jiffy-Couch-a-Bed', 'velour', '$79.89', 'special', 'day', 'Mr.', 'Phillips', 'Mr.', 'Gunnar', 'Beebe', 'customer', 'payments', 'loan', 'money', 'time', 'plan', 'convenience', 'lamps', 'way', 'story', 'muse', 'Casey', 'comment', 'mind', 'man', 'name', 'George', 'Needham', 'family', 'hair', 'wave', 'look', 'prep', 'schools', 'university', 'child', 'things', 'men', 'money', 'position', 'father', 'main', 'interest', 'mind', 'instant', 'interest', 'fact', 'Betty', 'boy', 'Barry', 'Jenkins', 'Jenkins', 'point', 'Jenkins', 'presence', 'girl', 'while', 'companion', 'George', 'years', 'Needham', 'days', 'eyes', 'hand', 'secret', 'Casey', 'smile', 'disturbance', 'Needham', 'years', 'girl', 'Needham', 'job', 'income', 'estate', 'face', 'skepticism', 'hand', 'point', 'part', 'father-confessor', 'thought', 'intentions', 'face', 'course', 'references', 'order', 'Needham', 'smile', 'Casey', 'idea', 'time', 'Casey', 'arm', 'darling', 'story', 'Casey', 'matter', 'check', 'Freddie', 'dinner', 'hat', 'coat', 'Nancy', 'Parks', 'piece', 'slot', 'dowry', 'taxi', 'bar', 'grill', 'car', 'minutes', 'place', 'street', 'apartment', 'mind', 'couple', 'hours', 'Jerry', 'car', 'fact', 'Jerry', 'Burton', 'room', 'door', 'glance', 'divan', 'problem', 'blanket', 'Burton', 'pillow', 'sheet', 'paper', 'top', 'room', 'thoughts', 'worry', 'note', 'Jack', 'wastebasket', 'way', 'possum', 'try', 'kid', 'wastebasket', 'wall', 'divan', 'instant', 'Casey', 'papers', 'glint', 'liquid', 'bottom', 'smell', 'whisky', 'basket', 'plan', 'drinks', 'Burton', 'kitchen', 'drinks', 'annoyance', 'mind', 'thought', 'implications', 'Burton', 'thing', 'Burton', 'somewhere', 'blackmailer', 'gun', 'pocket', 'gun', 'mind', 'idea', 'hand', 'trousers', 'pocket', 'slugs', 'revolver', 'eyes', 'brows', 'brain', 'problem', 'solution', 'fool', 'shells', 'table', 'hell', 'answer', 'room', 'imagination', 'control', 'Burton', 'sense', 'blackmailer', 'case', 'gun', 'possibilities', 'way', 'Burton', 'telephone', 'stillness', 'room', 'Casey', 'Tony', 'Calenda', 'Casey', 'voice', 'while', 'readjustment', 'control', 'disturbance', 'head', 'Calenda', 'picture', 'afternoon', 'seconds', 'job', 'Frank', 'Ackerly', 'picture', 'picture', 'corner', 'Washington', 'Blake', 'afternoon', 'boys', 'Casey', 'Calenda', 'sort', 'boys', 'hand', 'trial', 'week', 'picture', 'circumstances', 'Casey', 'people', 'pictures', 'objections', 'Jerry', 'Burton', 'gun', 'bullets', 'story', 'Burton', 'Tony', 'Calenda', 'nerves', 'impatience', 'edge', 'voice', 'picture', 'guy', 'Calenda', 'voice', 'Casey', 'picture', 'couple', 'boys', 'Casey', 'boys', 'Tony', 'bang', 'mouth', 'situation', 'telephone', 'directory', 'Jerry', 'number', 'times', 'bar', 'grill', 'Burton', 'afternoon', 'Burton', 'places', 'possibilities', 'time', 'answer', 'end', 'time', 'cigarettes', 'Burton', 'kind', 'guy', 'trouble', 'Casey', 'while', 'fact', 'Burton', 'mistake', 'kitchen', 'drink', 'can', 'beer', 'idea', 'bedroom', 'shoes', 'telephone', 'voice', 'Casey', 'picture', 'corner', 'Adams', 'Clark', 'headquarters', 'boys', 'Casey', 'click', 'receiver', 'mouth', 'seconds', 'decision', 'years', 'calls', 'people', 'favor', 'past', 'Others', 'sort', 'reward', 'information', 'tip', 'reason', 'break', 'tip', 'phony', 'police', 'Casey', 'point', 'suggestions', 'time', 'car', 'camera', 'equipment', 'bag', 'minutes', 'corner', 'block', 'district', 'factories', 'loft', 'buildings', 'tenements', 'police', 'radio', 'car', 'corner', 'brakes', 'radio', 'time', 'pavement', 'station', 'telephone', 'booth', 'police', 'car', 'sedan', 'headlights', 'hand', 'throttle', 'boat', 'crawl', 'Elaine', 'station', 'null', 'line', 'chart', 'degree', 'shore', 'eyebrows', 'Elaine', 'anchor', 'moment', 'hatch', 'anchor', 'rock', 'roll', 'music', 'radio', 'station', 'boat', 'null', 'Elaine', 'loop', 'RDF', 'wheel', 'anchor', 'line', 'ocean', 'floor', 'engines', 'cruiser', 'end', 'lines', 'bow', 'wind', 'cockpit', 'shore', 'Nick', 'engines', 'motor', 'trunks', 'price', 'tag', 'belt', 'chartroom', 'Nick', 'Elaine', 'spell', 'conversation', 'treasure', 'years', 'chatter', 'null', 'radio', 'direction', 'finder', 'friends', 'airplane', 'engine', 'engine', 'silence', 'wind', 'whistle', 'wings', 'pilot', 'plane', 'airstrip', 'Connecticut', 'aircraft', 'stop', 'chatter', 'moment', 'tension', 'plane', 'descent', 'tension', 'plane', 'reason', 'moment', 'skin', 'diving', 'tension', 'relationship', 'passengers', 'plane', 'boat', 'cloud', 'arrival', 'cloud', 'sun', 'Elaine', 'keys', 'table', 'cockpit', 'Nick', 'cushion', 'seats', 'padlock', 'chest', 'knife', 'spear', 'gun', 'hand', 'gun', 'Elaine', 'locker', 'lid', 'cushion', 'tank', 'harness', 'arsenal', 'Nick', 'weapon', 'codfish', 'man', 'laugh', 'harness', 'Elaine', 'moment', 'fins', 'gun', 'knife', 'transom', 'boat', 'back', 'Nick', 'water', 'fashion', 'moment', 'sight', 'string', 'bubbles', 'clue', 'whereabouts', 'while', 'Nick', 'course', 'bubbles', 'set', 'Elaine', 'air', 'trail', 'serpents', 'side', 'side', 'bubbles', 'sparkle', 'ocean', 'surface', 'back', 'hands', 'head', 'sky', 'boat', 'ocean', 'Alfredo', 'ocean', 'spot', 'desert', 'uncle', 'desire', 'aloneness', 'Alfredo', 'money', 'money', 'deserts', 'Graham', 'money', 'dice', 'tables', 'Las', 'Vegas', 'combination', 'pair', 'wreck', 'Trinidad', 'Graham', 'weeks', 'charter', 'Virginia', 'Graham', 'helicopter', 'steel', 'skids', 'Nick', 'hell', 'note', 'couple', 'spot', 'beach', 'character', 'thing', 'eyeful', 'schooner', 'way', 'wind', 'tack', 'San', 'Clemente', 'cabin', 'cruiser', 'ground-swell', 'fisherman', 'chair', 'fisherman', 'middle', 'Nick', 'stories', 'spots', 'spots', 'ocean', 'depths', 'shoreline', 'geologists', 'land', 'sides', 'deeps', 'ocean', 'La', 'Jolla', 'fishermen', 'advantage', 'whoppers', 'fish', 'surface', 'difference', 'pressure', 'Elaine', 'trip', 'boat', 'sea', 'bubbles', 'galley', 'butane', 'coffee', 'pot', 'brew', 'cup', 'chartroom', 'hi-fi', 'cockpit', 'cushions', 'music', 'Elaine', 'transom', 'dolphins', 'water', 'stern', 'luck', 'head', 'face', 'mask', 'forehead', 'edge', 'Elaine', 'face', 'mask', 'spear', 'gun', 'stern', 'hair', 'back', 'water', 'break', 'area', 'search', 'square', 'mile', 'legs', 'transom', 'news', 'thing', 'towel', 'service', 'Cigarette', 'Elaine', 'head', 'harness', 'feet', 'stern', 'transom', 'smoke', 'fin', 'foot', 'moulding', 'balance', 'forearm', 'washboard', 'limb', 'hand', 'boat', 'word', 'lips', 'feet', 'body', 'glare', 'horror', 'face', 'pain', 'underside', 'arm', 'murderer', 'Elaine', 'Nick', 'surprise', 'silence', 'atmosphere', 'head', 'Elaine', 'implication', 'oath', 'face', 'mask', 'mannequin', 'body', 'Nick', 'Elaine', 'Elaine', 'Nick', 'reaction', 'bandage', 'arm', 'shin', 'eyes', 'face', 'Elaine', 'Hurts', 'hell', 'second', 'ointment', 'Elaine', 'companionway', 'walk', 'fear', 'Nick', 'cat', 'spring', 'gun', 'cabin', 'instant', 'Nick', 'barrel', 'man', 'gun', 'ear', 'stroke', 'steam', 'engine', 'instant', 'Elaine', 'sound', 'Nick', 'boat', 'water', 'top', 'moment', 'sea', 'Nick', 'sense', 'element', 'murderer', 'advantage', 'flippers', 'feet', 'legs', 'power', 'water', 'arms', 'side', 'Nick', 'apparatus', 'water', 'Nick', 'rubber', 'glass', 'face', 'mask', 'forehead', 'chin', 'knuckles', 'air', 'tank', 'skin', 'second', 'Nick', 'grip', 'body', 'Nick', 'rear', 'side', 'head', 'water', 'pain', 'chest', 'bubble', 'air', 'lungs', 'dozens', 'others', 'surface', 'helium', 'balloons', 'sky', 'object', 'front', 'bubbles', 'cobra', 'head', 'air', 'hose', 'discovery', 'Nick', 'blow', 'Nick', 'hand', 'neck', 'bend', 'elbow', 'instant', 'hose', 'hand', 'rubber', 'mouthpiece', 'nose', 'air', 'hose', 'pain', 'chest', 'exultation', 'signal', 'water', 'movement', 'water', 'Nick', 'hose', 'air', 'Nick', 'ocean', 'neck', 'steamer', 'clam', 'village', 'action', 'residents', 'tourists', 'stiffs', 'end', 'county', 'time', 'hit', 'run', 'manslaughter', 'months', 'Bob', 'Moore', 'hick-self', 'man', 'mountain', 'lard', 'middle-age', 'surprise', 'head', 'murder', 'Jed', 'Rookie', 'investigator', 'summer', 'Jed', 'years', 'man', 'police', 'force', 'college', 'education', 'sarcasm', 'grin', 'mouth', 'teeth', 'attention', 'ribbing', 'cop', 'Jed', 'police', 'officer', 'runt', 'shoulders', 'brush', 'haircut', 'juvenile', 'delinquent', 'hotrod', 'set', 'day', 'requirement', 'cop', 'law', 'Man', 'pounds', 'badge', 'guy', 'Moore', 'day', 'lines', 'lecture', 'woman', 'Mrs.', 'Buck', 'Widow', 'sort', 'woman', 'farm', 'bride', 'Jed', 'bag', 'killer', 'road', 'peninsula', 'road', 'block', 'desk', 'Bob', 'slob', 'office', 'morning', 'Mrs.', 'Buck', 'trouble', 'farm', 'hands', 'money', 'trouble', 'fellow', 'Tim', 'Williams', 'hand', 'Tim', 'workers', 'crops', 'year', 'Tim', 'wife', 'trouble', 'worker', 'work', 'Julia', 'Julia', 'Julia', 'Buck', 'deceased', 'Moore', 'idiot-grin', 'Julia', 'danger', 'doubt', 'Tim', 'killer', 'witness', 'package', 'strings', 'Tim', 'night', 'witness', 'Julia', 'woman', 'Nellie', 'Harris', 'last', 'Nellie', 'kitchen', 'Tim', 'Julia', 'room', 'voice', 'Tim', 'money', 'house', 'Julia', 'Nellie', 'house', 'work', 'Julia', 'Nellie', 'Julia', 'doubt', 'Tim', 'Mrs.', 'Buck', 'fact', 'run', 'way', 'road', 'block', 'body', 'street', 'Doc', 'office', 'house', 'back', 'doctor', 'Abel', 'corpse', 'table', 'sheet', 'Doc', 'Abel', 'front', 'patients', 'sheet', 'bruises', 'Julia', 'throat', 'hands', 'prints', 'Moore', 'head', 'thought', 'body', 'woman', 'age', 'Julia', 'figure', 'sheet', 'watch', 'lunch', 'lot', 'paper', 'work', 'office', 'Buck', 'house', 'squad', 'car', 'road', 'block', 'car', 'Moore', 'door', 'Jaguar', 'roadster', 'heap', 'heck', 'buy', 'dirt', 'load', 'street', 'Ford', 'minutes', 'driveway', 'house', 'Jaguar', 'garage', 'barn', 'rear', 'fields', 'potatoes', 'gentleman', 'farming', 'kind', 'grandfather-father-to-son', 'money', 'fins', 'Caddy', 'garage', 'inside', 'house', 'mixture', 'furniture', 'Nellie', 'Harris', 'woman', 'face', 'prune', 'stone', 'ear', 'Moore', 'room', 'Mrs.', 'Buck', 'gal', 'eyes', 'room', 'stairs', 'bath', 'bedroom', 'way', 'morning', 'idea', 'Tim', 'Mrs.', 'Buck', 'wages', 'Miss', 'Julia', 'woman', 'dollar', 'Years', 'Miss', 'Julia', 'dollars', 'year', 'Tim', 'sir', 'Moore', 'kitchen', 'table', 'pencil', 'Mrs.', 'Buck', 'men', 'friends', 'mouth', 'teeth', 'secretary', 'terms', 'members', 'family', 'family', 'son', 'war', 'room', 'signs', 'struggle', 'Moore', 'wife', 'Jed', 'case', 'men', 'road', 'block', 'miles', 'hour', 'dirt', 'road', 'cluster', 'shacks', 'summer', 'workers', 'room', 'cottage', 'road', 'Mrs.', 'Tim', 'Williams', 'skin', 'color', 'chocolate', 'dress', 'slippers', 'inside', 'place', 'furniture', 'bucks', 'buck', 'week', 'stuff', 'warmth', 'Mrs.', 'Williams', 'thing', 'Tim', 'house', 'morning', 'Mrs.', 'Buck', 'wages', 'week', 'Mr.', 'matter', 'Tim', 'woman', 'Tim', 'man', 'bull', 'baby', 'Tim', 'woman', 'life', 'hand', 'woman', 'Moore', 'husband', 'car', 'station', 'wagon', 'job', 'question', 'idea', 'husband', 'head', 'moment', 'beauty', 'poverty', 'Moore', 'Jed', 'men', 'way', 'husband', 'trial', 'trouble', 'bullet', 'minutes', 'Jaguar', 'Moore', 'forms', 'Doc', 'Abel', 'Moore', 'road', 'block', 'bowl', 'chowder', 'Doc', 'death', 'statements', 'girl', 'hour', 'pipe', 'walk', 'basin', 'summer', 'cruisers', 'dock', 'yawl', 'breakwater', 'foot', 'Wheeler', 'gold', 'letters', 'stern', 'dock', 'boat', 'years', 'outriggers', 'chairs', 'guy', 'station', 'boat', 'Bob', 'Moore', 'blue', 'office', 'forms', 'building', 'Mrs.', 'Tim', 'Williams', 'back', 'car', 'seat', 'floor', 'back', 'seat', 'curves', 'back', 'hips', 'lines', 'dirt', 'road', 'scrub', 'pine', 'trees', 'minutes', 'moment', 'Moore', 'Tim', 'pipe', 'cigarette', 'course', 'murder', 'case', 'Tim', 'Mrs.', 'Williams', 'cigarette', 'back', 'seat', 'police', 'case', 'stuff', 'crime', 'series', 'train', 'Diana', 'Beauclerk', 'time', 'hotel', 'suite', 'hotel', 'rent', 'crime', 'police', 'number', 'suite', 'newspaper', 'hotel', 'people', 'tourist', 'suite', 'headache', 'eyes', 'Alec', 'police', 'square', 'inch', 'place', 'fine-tooth', 'comb', 'hotel', 'people', 'chance', 'chief', 'chance', 'bellboy', 'chambermaid', 'Beauclerk', 'topography', 'suite', 'color', 'Beauclerk', 'night', 'Alec', 'way', 'evening', 'thought', 'smirk', 'face', 'murderer', 'scene', 'crime', 'eyes', 'murderer', 'key', 'suite', 'train', 'Alec', 'memory', 'Beauclerk', 'case', 'teletype', 'flimsies', 'spot-news', 'stories', 'crime', 'member', 'Diana', 'Beauclerk', 'actress', 'weeks', 'Daniel', 'Forbes', 'husband', 'firm', 'lawyers', 'divorce', 'Kimball', 'Stacy', 'partner', 'law', 'firm', 'Martin', 'Stacy', 'hotel', 'evening', 'time', 'divorce', 'Forbes', 'lump', 'sum', 'lieu', 'alimony', 'Stacy', 'Forbes', 'lump', 'sum', 'Stacy', 'Forbes', 'money', 'estate', 'venture', 'Stacy', 'suite', 'health', 'spirits', 'money', 'Forbes', 'Stacy', 'visitor', 'evening', 'morning', 'suite', 'bullet', 'Colt', 'revolver', 'brain', 'examiner', 'door', 'key', 'gun', 'Alec', 'Forbes', 'Stacy', 'Diana', 'Beauclerk', 'Forbes', 'motive', 'Stacy', 'opportunity', 'motive', 'Stacy', 'opportunity', 'Forbes', 'case', 'hotels', 'impression', 'lobby', 'dignity', 'walnut', 'plush', 'floor', 'rugs', 'night', 'clerk', 'man', 'adversary', 'room', 'time', 'sir', 'clerk', 'smile', 'number', 'smile', 'suite', 'glance', 'chart', 'guest', 'names', 'room', 'numbers', 'wall', 'clerk', 'number', 'word', 'glance', 'rooms', 'rate', 'face', 'voice', 'plumbing', 'stillness', 'lobby', 'women', 'parrots', 'man', 'match', 'cigar', 'flame', 'fingers', 'bellboys', 'bench', 'eyes', 'course', 'disease', 'clerk', 'Alec', 'desk', 'eyes', 'reason', 'story', 'St-story', 'story', 'suite', 'blackmail', 'clerk', 'story', 'gentleman', 'stillness', 'Alec', 'bellboy', 'lobby', 'elevator', 'eyes', 'back', 'number', 'suite', 'corridor', 'floor', 'globes', 'intervals', 'feet', 'carpet', 'footfall', 'end', 'corridor', 'Alec', 'door', 'setup', 'murder', 'bellboy', 'door', 'room', 'neon', 'sign', 'window', 'snowflakes', 'glow', 'feathers', 'boy', 'ceiling', 'light', 'room', 'hint', 'struggle', 'Deal', 'furniture', 'mahogany', 'finish', 'window', 'department', 'store', 'rug', 'blood', 'Table', 'covers', 'towels', 'ashtrays', 'matches', 'mirror', 'bureau', 'blank', 'eye', 'Alec', 'part', 'tourist', 'room', 'boy', 'eyes', 'job', 'mouth', 'boy', 'eyes', 'mister', 'advice', 'train', 'duty', 'weeks', 'boy', 'night', 'bucks', 'hurry', 'room', 'Alec', 'tip', 'Alec', 'doors', 'bathroom', 'hall', 'room', 'door', 'side', 'Alec', 'hall', 'door', 'key', 'watch', 'bedside', 'table', 'quarter', 'belongings', 'bureau', 'film', 'dust', 'surface', 'wood', 'linen', 'cover', 'dust', 'room', 'Women', 'face', 'powder', 'powder', 'Alec', 'bathroom', 'Blood', 'bathtub', 'murderer', 'hands', 'Alec', 'bath', 'bed', 'light', 'darkness', 'reflection', 'neon', 'sign', 'wall', 'window', 'metronome', 'minutes', 'Alec', 'sound', 'movement', 'room', 'pulsation', 'light', 'wall', 'silence', 'light', 'city', 'clock', 'notes', 'midnight', 'examiner', 'Alec', 'sound', 'heart', 'wall', 'chest', 'sound', 'room', 'eyelids', 'sleep', 'sound', 'shadow', 'wall', 'neon', 'sign', 'shadow', 'neon', 'sign', 'shadow', 'height', 'wall', 'ceiling', 'light', 'reflection', 'wall', 'source', 'light', 'case', 'window', 'Alec', 'muscles', 'bedsprings', 'creak', 'shadow', 'range', 'light', 'window', 'caution', 'Alec', 'bed', 'light', 'switch', 'blow', 'ribs', 'right', 'crack', 'fist', 'flesh', 'knuckles', 'stomach', 'cloth', 'fist', 'grunt', 'animal', 'pain', 'floor', 'Alec', 'moment', 'guard', 'light', 'switch', 'rug', 'corner', 'room', 'floorboards', 'man', 'face', 'body', 'Alec', 'face', 'eyes', 'Tartar', 'face', 'Russia', 'shoes', 'overcoat', 'shoulders', 'waist', 'bulge', 'armpit', 'shoulder', 'holster', 'Alec', 'gun', 'type', 'lineup', 'Broadway', 'night', 'clubs', 'pool', 'rooms', 'criminal', 'courts', 'Diana', 'Beauclerk', 'connection', 'underworld', 'gunman', 'weapon', 'caliber', 'hotel', 'scene', 'killing', 'victim', 'one-way', 'ride', 'country', 'road', 'eyelids', 'eyes', 'Alec', 'man', 'reply', 'eyes', 'lips', 'Alec', 'Diana', 'Beauclerk', 'Alec', 'denial', 'response', 'police', 'silence', 'nerves', 'man', 'mouth', 'words', 'animal', 'grunting', 'Alec', 'fight', 'English', 'man', 'mouth', 'forefinger', 'gullet', 'Alec', 'scars', 'throat', 'palate', 'time', 'actuality', 'McIver', 'Handley', 'Walker', 'murder', 'death', 'deeds', 'ones', 'ones', 'Abraham', 'Wharf', 'sister', 'fire', 'house', 'place', 'razor', 'Sister', 'people', 'suicide', 'heaven', 'thing', 'tremor', 'God', 'throat', 'cave', 'Granny', 'swamp', 'present', 'people', 'Red', 'Handley', 'Abraham', 'Wharf', 'ghost', 'Red', 'Handley', 'God', 'Dogtown', 'lore', 'lot', 'perception', 'man', 'motives', 'gentlemen', 'point', 'point', 'facts', 'newspapers', 'story', 'story', 'morning', 'point', 'spirit', 'matter', 'inwardness', 'luster', 'furniture', 'mahogany', 'highboy', 'emanation', 'Places', 'qualities', 'people', 'point', 'story', 'spirit', 'matter', 'spirit', 'thing', 'truth', 'antique', 'thing', 'truth', 'Dogtown', 'places', 'marrow', 'worms', 'wood', 'veneer', 'fact', 'folk', 'back', 'others', 'hall-mark', 'witch', 'burnings', 'witch', 'family', 'Granther', 'Stannard', 'teeth', 'Dark', 'Younger', 'name', 'Dorcas', 'job', 'tusks', 'hex', 'legs', 'glass', 'Dogtown', 'village', 'highland', 'towns', 'Gloucester', 'place', 'world', 'desolation', 'deformity', 'character', 'Scientists', 'spewings', 'glacier', 'giant', 'monsters', 'granite', 'sort', 'life', 'mile', 'dwelling', 'century', 'houses', 'sites', 'maps', 'registers', 'pursuit', 'cellars', 'pillars', 'memory', 'man', 'sweep', 'boulders', 'ledges', 'oak', 'walnut', 'sumac', 'common', 'everywhere', 'ruins', 'shadows', 'setting', 'reports', 'things', 'McIver', 'Handley', 'Walker', 'Lanesville', 'house', 'walk', 'Handley', 'Dogtown', 'painters', 'track', 'picnickers', 'time', 'time', 'Sea-road', 'railroad', 'lack', 'water', 'Dogtown', 'brass', 'door', 'nail', 'Red', 'Handley', 'painters', 'Gloucester', 'years', 'colony', 'somewhere', 'cousins', 'Anta', 'Freya', 'Norberg', 'lot', 'neck', 'woods', 'furniture', 'steam-baths', 'girls', 'hair', 'faces', 'Handley', 'Freya', 'Red', 'beard', 'Anta', 'Norberg', 'inheritance', 'quarrel', 'draw', 'feeling', 'spirit', 'spirit', 'whole', 'affair', 'custodian', 'antiquities', 'registrar', 'things', 'man', 'ship', 'rigging', 'wind', 'hull', 'water-line', 'records', 'Norberg', 'deed', 'years', 'page', 'years', 'Handley', 'register', 'consequence', 'man', 'habit', 'mole', 'hairs', 'temple', 'man', 'hair', 'manners', 'taste', 'sort', 'eye', 'street', 'woman', 'bus', 'gentleman', 'hat', 'study', 'cosmetics', 'week', 'cousin', 'Red', 'Red', 'ivory-inlay', 'page', 'God', 'Handley', 'sneak', 'week', 'register', 'building', 'people', 'past', 'craft', 'days', 'language', 'beard', 'Handley', 'hair', 'men', 'day', 'Handley', 'presence', 'throats', 'quarrel', 'trouble', 'accusations', 'granite', 'quarry', 'buildings', 'men', 'Norberg', 'family', 'holdings', 'cousins', 'Anta', 'Freya', 'will', 'preamble', 'course', 'judge', 'probate', 'free-holders', 'Gloucester', 'Norberg', 'estate', 'widow', 'part', 'estate', 'Salu', 'Norberg', 'room', 'side', 'privileges', 'well', 'bake-oven', 'cellar', 'cellar', 'widow', 'land', 'dower', 'whole', 'privileges', 'pounds', 'crests', 'coxcombs', 'pasture', 'wives', 'battle', 'scene', 'mind', 'picture', 'blood', 'colors', 'day', 'Handley', 'Anta', 'wife', 'presence', 'boulders', 'woman', 'cause', 'jealousy', 'Paint', 'McIver', 'painter', 'Handley', 'Red', 'show', 'Gloucester', 'Handley', 'pictures', 'Rockport', 'pertinence', 'gentlemen', 'mind', 'intelligence', 'touches', 'pattern', 'shape', 'motives', 'crime', 'patterns', 'life', 'designs', 'destiny', 'knowledge', 'substance', 'case', 'month', 'October', 'opening', 'season', 'Massachusetts', 'pheasant', 'Rabbits', 'folk', 'sense', 'sense', 'mussels', 'day', 'Red', 'fact', 'time', 'time', 'sea', 'dragger', 'Gloucester', 'Anta', 'wife', 'absences', 'clearance', 'embraces', 'Handley', 'morning', 'Handley', 'gun', 'excuse', 'mushrooms', 'week', 'rain', 'morning', 'day', 'Sandwich', 'glass', 'man', 'Haney', 'companion', 'eyes', 'answer', 'surprise', 'fit', 'man', 'buddy', 'drink', 'drink', 'count', 'eyes', 'guy', 'rocker', 'Haney', 'eyes', 'Eyes', 'intensity', 'sort', 'fire', 'man', 'stranger', 'course', 'hours', 'drinking', 'occasion', 'stranger', 'head', 'thought', 'street', 'light', 'van', 'intersection', 'Brakes', 'horn', 'man', 'Phil', 'second', 'shout', 'spur', 'moment', 'matter', 'fact', 'guy', 'mouth', 'truck', 'stop', 'driver', 'cab', 'stranger', 'Haney', 'arm', 'shoulders', 'friend', 'driver', 'plot', 'safe-driving', 'record', 'man', 'truck', 'face', 'word', 'driver', 'heel', 'truck', 'Haney', 'thought', 'time', 'truck', 'driver', 'eyes', 'sort', 'look', 'bluff', 'word', 'light', 'way', 'street', 'stranger', 'Phil', 'way', 'bars', 'drinks', 'Phil', 'corner', 'time', 'grudges', 'company', 'return', 'drinks', 'money', 'job', 'Phil', 'screwball', 'company', 'offer', 'coughing', 'control', 'Pete', 'name', 'answer', 'Haney', 'laugh', 'Pete', 'Thanks', 'crease', 'eyebrows', 'Phil', 'kind', 'grudge', 'truck', 'favors', 'cent', 'Phil', 'Phil', 'forehead', 'guy', 'exit', 'people', 'landlord', 'radio', 'bath', 'neighbors', 'man', 'eyes', 'address', 'time', 'habits', 'movements', 'accident', 'suicide', 'way', 'trouble', 'customer', 'eyebrows', 'Customer', 'Pete', 'line', 'work', 'minutes', 'Haney', 'break', 'stranger', 'farewell', 'Haney', 'man', 'door', 'departure', 'Phil', 'time', 'man', 'glass', 'table', 'time', 'midnight', 'apartment', 'sack', 'incident', 'mind', 'day', 'hangover', 'Haney', 'night', 'hangover', 'turn', 'conversation', 'weirdy', 'aspirin', 'day', 'landlord', 'way', 'tenants', 'burden', 'life', 'Phil', 'work', 'landlord', 'course', 'Haney', 'check', 'maintenance', 'wife', 'Lolly', 'stranger', 'work', 'police', 'car', 'front', 'apartment', 'building', 'lobby', 'people', 'spine', 'premonition', 'fellow', 'tenants', 'landlord', 'afternoon', 'roof', 'errand', 'inspection', 'fall', 'impact', 'body', 'pavement', 'basement', 'delivery', 'entrance', 'Haney', 'pallor', 'blood', 'drain', 'cheeks', 'slowness', 'elevator', 'apartment', 'drink', 'hands', 'chair', 'while', 'questions', 'accident', 'coincidence', 'stranger', 'course', 'Haney', 'bed', 'landlord', 'man', 'family', 'man', 'favor', 'eyes', 'Phil', 'Haney', 'hurt', 'feelings', 'dream', 'dream', 'overtones', 'nightmare', 'Haney', 'dream', 'bar', 'weeks', 'night', 'excuse', 'corner', 'table', 'lushes', 'ritual', 'pet', 'grievance', 'bourbon', 'water', 'favorite', 'grievance', 'landlord', 'fact', 'spur', 'moment', 'grievance', 'Lolly', 'end', 'highball', 'rings', 'table-top', 'bottom', 'glass', 'eyes', 'stranger', 'table', 'smile', 'fellow', 'conspirators', 'name', 'Pete', 'man', 'shadow', 'noise', 'shadow', 'Haney', 'sight', 'corner', 'man', 'evening', 'truck', 'crossing', 'creep', 'bar-buddy', 'places', 'voice', 'man', 'Phil', 'way', 'landlord', 'back', 'mistake', 'way', 'skepticism', 'face', 'voice', 'Pete', 'Haney', 'company', 'drink', 'trouble', 'trouble', 'guy', 'drink', 'lack', 'appreciation', 'silence', 'Haney', 'time', 'drinks', 'wife', 'subject', 'minutes', 'interest', 'listener', 'face', 'eyes', 'throat', 'stranger', 'pay', 'bills', 'men', 'Haney', 'bitch', 'divorce', 'Community', 'property', 'deal', 'business', 'share', 'Pete', 'state', 'job', 'Haney', 'twinge', 'annoyance', 'line', 'thought', 'circles', 'brain', 'guy', 'killer', 'nut', 'harm', 'thing', 'Lolly', 'spot', 'offense', 'cops', 'thing', 'coincidence', 'Pete', 'accident', 'stranger', 'eyes', 'course', 'accident', 'way', 'time', 'customer', 'alibi', 'Phil', 'favor', 'Haney', 'liquor', 'bottom', 'glass', 'Pops', 'wall', 'boards', 'end', 'floor', 'feet', 'pitch', 'darkness', 'boards', 'light', 'moment', 'match', 'candle', 'room', 'things', 'end', 'crate', 'candle', 'blanket', 'bindle', 'shoulder', 'blanket', 'window', 'light', 'pint', 'bottle', 'pocket', 'blanket', 'place', 'buddy', 'guy', 'Larry', 'party', 'town', 'second', 'bottle', 'bottle', 'swallow', 'time', 'bottle', 'window', 'light', 'candle', 'Charlie', 'building', 'front', 'set-up', 'bottle', 'way', 'scoop', 'way', 'scoop', 'pint', 'sherry', 'Pops', 'dark', 'blanket', 'candle', 'friend', 'Larry', 'Pops', 'bottle', 'Charlie', 'poem', 'Kenneth', 'Patchen', 'record', 'jazz', 'background', 'poem', 'words', 'word', 'intervals', 'inflections', 'word', 'chord', 'jazz', 'group', 'murder', 'man', 'men', 'gloves', 'hurry', 'Wait', 'wait', 'Charlie', 'reference', 'record', 'bottle', 'times', 'Pops', 'ones', 'effect', 'capacity', 'wine', 'bottle', 'Charlie', 'Pops', 'bottle', 'Pops', 'drink', 'hold', 'Pops', 'Charlie', 'length', 'lead', 'pipe', 'pocket', 'lead', 'pipe', 'cinch', 'sound', 'watermelon', 'finger', 'Pops', 'waist', 'hand', 'shirt', 'heartbeat', 'Charlie', 'Patchen', 'bit', 'order', 'hand', 'piece', 'lead', 'pipe', 'blow', 'borderline', 'way', 'accomplice', 'point', 'sense', 'piece', 'pipe', 'hand', 'thunk', 'bone', 'Charlie', 'boy', 'hand', 'Pops', 'trace', 'heartbeat', 'Charlie', 'way', 'position', 'Charlie', 'kick', 'chance', 'stakes', 'question', 'bottles', 'fingerprints', 'picture', 'fuzz', 'body', 'middle', 'bout', 'bum', 'bottle', 'jug', 'weapon', 'fingerprints', 'boards', 'window', 'course', 'prints', 'cement', 'ledge', 'cops', 'winos', 'day', 'cause', 'death', 'chance', 'picture', 'bum', 'pockets', 'handkerchief', 'matches', 'cents', 'change', 'matches', 'book', 'matches', 'fingerprints', 'change', 'candle', 'bum', 'way', 'window', 'reason', 'candle', 'tin', 'lid', 'fire', 'crate', 'fire', 'Pops', 'days', 'weeks', 'point', 'cop', 'way', 'danger', 'cop', 'fact', 'cop', 'citizen', 'Winsett', 'street', 'taverns', 'hour', 'hours', 'Maxine', 'pad', 'Cosmo', 'trial', 'murder', 'clockwork', 'safe', 'pad', 'hour', 'pad', 'pint', 'plans', 'murder', 'hands', 'step', 'rendezvous', 'notes', 'habits', 'habitat', 'score', 'Radic', 'date', 'afternoon', 'Maxine', 'pad', 'Charlie', 'key', 'Charlie', 'public', 'rooms', 'evening', 'things', 'Charlie', 'food', 'drinks', 'pint', 'night', 'Seaton', 'house', 'arrangements', 'diagrams', 'floor', 'plans', 'pieces', 'dope', 'Radic', 'diagrams', 'apartment', 'building', 'Radic', 'apartment', 'times', 'Radic', 'friends', 'enemies', 'Charlie', 'coin', 'hand', 'show-down', 'poker', 'game', 'gin', 'rummy', 'minute', 'Charlie', 'thing', 'expense', 'money', 'bus', 'fare', 'scene', 'crime', 'risk', 'station', 'alibi', 'work', 'day', 'couple', 'straw', 'bread', 'bucks', 'sister', 'Frisco', 'mileage', 'alibi', 'care', 'seat', 'cover', 'boy', 'breath', 'plunge', 'case', 'Doris', 'alibi', 'D-night', 'days', 'week', 'friend', 'Manny', 'time', 'shoulder', 'Willy', 'case', 'morning', 'Frisco', 'case', 'money']\n"
          ]
        }
      ],
      "source": [
        "#spacy.explain(\"NN\")\n",
        "#spacy.explain(\"NNS\")\n",
        "#spacy.explain(\"NP\")\n",
        "sustantivos = []\n",
        "for frase in palabras_etiquetadas:\n",
        "  for token in frase:\n",
        "    if token[1] in [\"NN\", \"NNS\", \"NP\"]:\n",
        "      sustantivos.append(token[0])\n",
        "print(sustantivos)"
      ]
    },
    {
      "cell_type": "markdown",
      "source": [
        "\n",
        "# Distribución de Frecuencias: Los sustantivos más utilizados"
      ],
      "metadata": {
        "id": "XQnGM7oxmQYQ"
      }
    },
    {
      "cell_type": "code",
      "execution_count": null,
      "metadata": {
        "id": "QPtdvv1zI-Dw",
        "colab": {
          "base_uri": "https://localhost:8080/",
          "height": 474
        },
        "outputId": "4e952e01-d36e-4b33-8a6d-04ee0ecfd4be"
      },
      "outputs": [
        {
          "output_type": "display_data",
          "data": {
            "text/plain": [
              "<Figure size 640x480 with 1 Axes>"
            ],
            "image/png": "[encoded data removed]"
          },
          "metadata": {}
        }
      ],
      "source": [
        "import pandas as pd\n",
        "import matplotlib.pyplot as plt\n",
        "frecuencia_sustantivos = nltk.FreqDist(sustantivos)\n",
        "palabras = pd.DataFrame(frecuencia_sustantivos.most_common(30))\n",
        "palabras.columns = [\"sustantivo\", \"frecuencia\"]\n",
        "plt.bar(x=palabras[\"sustantivo\"], height=palabras[\"frecuencia\"])\n",
        "plt.xticks(rotation=90)\n",
        "plt.show()"
      ]
    },
    {
      "cell_type": "markdown",
      "source": [
        "# Corpus Reuters"
      ],
      "metadata": {
        "id": "y1rQqW15CdJ2"
      }
    },
    {
      "cell_type": "code",
      "execution_count": null,
      "metadata": {
        "id": "5h5vTqaRI-Dw",
        "colab": {
          "base_uri": "https://localhost:8080/",
          "height": 214
        },
        "outputId": "79056214-52b5-4fb4-a2f3-498f6de2a674"
      },
      "outputs": [
        {
          "output_type": "stream",
          "name": "stderr",
          "text": [
            "[nltk_data] Downloading package reuters to /root/nltk_data...\n"
          ]
        },
        {
          "output_type": "stream",
          "name": "stdout",
          "text": [
            "Total de categorías 90\n"
          ]
        },
        {
          "output_type": "execute_result",
          "data": {
            "text/plain": [
              "'\\n      The Reuters-21578 benchmark corpus, ApteMod version\\n\\nThis is a publically available version of the well-known Reuters-21578\\n\"ApteMod\" corpus for text categorization.  It has been used in\\npublications like these:\\n\\n * Yiming Yang and X. Liu. \"A re-examination of text categorization\\n   methods\".  1999.  Proceedings of 22nd Annual International SIGIR.\\n   http://citeseer.nj.nec.com/yang99reexamination.html\\n\\n * Thorsten Joachims. \"Text categorization with support vector\\n   machines: learning with many relevant features\".  1998. Proceedings\\n   of ECML-98, 10th European Conference on Machine Learning.\\n   http://citeseer.nj.nec.com/joachims98text.html\\n\\nApteMod is a collection of 10,788 documents from the Reuters financial\\nnewswire service, partitioned into a training set with 7769 documents\\nand a test set with 3019 documents.  The total size of the corpus is\\nabout 43 MB.  It is also available for download from\\nhttp://kdd.ics.uci.edu/databases/reuters21578/reuters21578.html ,\\nwhich includes a more extensive history of the data revisions.\\n\\nThe distribution of categories in the ApteMod corpus is highly skewed,\\nwith 36.7% of the documents in the most common category, and only\\n0.0185% (2 documents) in each of the five least common categories.\\nIn fact, the original data source is even more skewed---in creating\\nthe corpus, any categories that did not contain at least one document\\nin the training set and one document in the test set were removed from\\nthe corpus by its original creator.\\n\\nIn the ApteMod corpus, each document belongs to one or more\\ncategories.  There are 90 categories in the corpus.  The average\\nnumber of categories per document is 1.235, and the average number of\\ndocuments per category is about 148, or 1.37% of the corpus.\\n\\n -Ken Williams\\n  ken@mathforum.org\\n\\n         Copyright & Notification \\n\\n(extracted from the README at the UCI address above)\\n\\nThe copyright for the text of newswire articles and Reuters\\nannotations in the Reuters-21578 collection resides with Reuters Ltd.\\nReuters Ltd. and Carnegie Group, Inc. have agreed to allow the free\\ndistribution of this data *for research purposes only*.  \\n\\nIf you publish results based on this data set, please acknowledge\\nits use, refer to the data set by the name \"Reuters-21578,\\nDistribution 1.0\", and inform your readers of the current location of\\nthe data set (see \"Availability & Questions\").\\n\\n'"
            ],
            "application/vnd.google.colaboratory.intrinsic+json": {
              "type": "string"
            }
          },
          "metadata": {},
          "execution_count": 18
        }
      ],
      "source": [
        "from nltk.corpus import reuters\n",
        "nltk.download(\"reuters\")\n",
        "print(\"Total de categorías\", len(reuters.categories()))\n",
        "reuters.readme()"
      ]
    },
    {
      "cell_type": "markdown",
      "source": [
        "# Reuters - Entrenamiento y Prueba"
      ],
      "metadata": {
        "id": "nUOIq8M8xqA5"
      }
    },
    {
      "cell_type": "code",
      "execution_count": null,
      "metadata": {
        "id": "EZssRB_-I-Dw",
        "colab": {
          "base_uri": "https://localhost:8080/"
        },
        "outputId": "51ab2775-2dfb-450b-efc4-59d7a465e834"
      },
      "outputs": [
        {
          "output_type": "stream",
          "name": "stdout",
          "text": [
            "['acq', 'alum', 'barley', 'bop', 'carcass', 'castor-oil', 'cocoa', 'coconut', 'coconut-oil', 'coffee', 'copper', 'copra-cake', 'corn', 'cotton', 'cotton-oil', 'cpi', 'cpu', 'crude', 'dfl', 'dlr', 'dmk', 'earn', 'fuel', 'gas', 'gnp', 'gold', 'grain', 'groundnut', 'groundnut-oil', 'heat', 'hog', 'housing', 'income', 'instal-debt', 'interest', 'ipi', 'iron-steel', 'jet', 'jobs', 'l-cattle', 'lead', 'lei', 'lin-oil', 'livestock', 'lumber', 'meal-feed', 'money-fx', 'money-supply', 'naphtha', 'nat-gas', 'nickel', 'nkr', 'nzdlr', 'oat', 'oilseed', 'orange', 'palladium', 'palm-oil', 'palmkernel', 'pet-chem', 'platinum', 'potato', 'propane', 'rand', 'rape-oil', 'rapeseed', 'reserves', 'retail', 'rice', 'rubber', 'rye', 'ship', 'silver', 'sorghum', 'soy-meal', 'soy-oil', 'soybean', 'strategic-metal', 'sugar', 'sun-meal', 'sun-oil', 'sunseed', 'tea', 'tin', 'trade', 'veg-oil', 'wheat', 'wpi', 'yen', 'zinc']\n"
          ]
        }
      ],
      "source": [
        "print(reuters.categories())"
      ]
    },
    {
      "cell_type": "markdown",
      "source": [
        "#Tokenización de Sentencias"
      ],
      "metadata": {
        "id": "o77RsVqyC0Ko"
      }
    },
    {
      "cell_type": "code",
      "execution_count": null,
      "metadata": {
        "id": "7Z_W4x-LI-Dx",
        "colab": {
          "base_uri": "https://localhost:8080/"
        },
        "outputId": "f7d261fa-d819-4adb-cdbc-955d6b1cbeae"
      },
      "outputs": [
        {
          "output_type": "stream",
          "name": "stderr",
          "text": [
            "[nltk_data] Downloading package punkt to /root/nltk_data...\n",
            "[nltk_data]   Package punkt is already up-to-date!\n"
          ]
        },
        {
          "output_type": "execute_result",
          "data": {
            "text/plain": [
              "[\"YUGOSLAV ECONOMY WORSENED IN 1986 , BANK DATA SHOWS National Bank economic data for 1986 shows that Yugoslavia ' s trade deficit grew , the inflation rate rose , wages were sharply higher , the money supply expanded and the value of the dinar fell .\",\n",
              " 'The trade deficit for 1986 was 2 . 012 billion dlrs , 25 . 7 pct higher than in 1985 .',\n",
              " 'The trend continued in the first three months of this year as exports dropped by 17 . 8 pct , in hard currency terms , to 2 . 124 billion dlrs .',\n",
              " 'Yugoslavia this year started quoting trade figures in dinars based on current exchange rates , instead of dollars based on a fixed exchange rate of 264 . 53 dinars per dollar .',\n",
              " \"Yugoslavia ' s balance of payments surplus with the convertible currency area fell to 245 mln dlrs in 1986 from 344 mln in 1985 .\"]"
            ]
          },
          "metadata": {},
          "execution_count": 20
        }
      ],
      "source": [
        "nltk.download(\"punkt\")\n",
        "sentencias = reuters.sents(categories=[\"housing\", \"income\"])\n",
        "sentencias = [\" \".join(sentencia) for sentencia in sentencias]\n",
        "sentencias[0:5]"
      ]
    },
    {
      "cell_type": "markdown",
      "source": [
        "# Acceso a identificadores de archivos"
      ],
      "metadata": {
        "id": "5hx8p7VoDAYF"
      }
    },
    {
      "cell_type": "code",
      "execution_count": null,
      "metadata": {
        "id": "T4xQRTZpI-Dx",
        "colab": {
          "base_uri": "https://localhost:8080/"
        },
        "outputId": "b3d07112-3000-4d5c-a731-89e29f2c8689"
      },
      "outputs": [
        {
          "output_type": "stream",
          "name": "stdout",
          "text": [
            "['test/16118', 'test/18534', 'test/18540', 'test/18664', 'test/18665', 'test/18672', 'test/18911', 'test/19875', 'test/20106', 'test/20116', 'training/1035', 'training/1036', 'training/10602', 'training/10604', 'training/11170', 'training/11665', 'training/2618', 'training/29', 'training/3105', 'training/3708', 'training/3720', 'training/3723', 'training/3898', 'training/5883', 'training/5886', 'training/6000', 'training/6067', 'training/6197', 'training/7005', 'training/7006', 'training/7015', 'training/7036', 'training/7098', 'training/7099', 'training/9615']\n"
          ]
        }
      ],
      "source": [
        "print(reuters.fileids(categories=[\"housing\", \"income\"]))"
      ]
    },
    {
      "cell_type": "code",
      "execution_count": null,
      "metadata": {
        "id": "kuBa09U6I-Dx",
        "colab": {
          "base_uri": "https://localhost:8080/"
        },
        "outputId": "c8fbf2e1-12cb-482d-ab95-2bc82003cf97"
      },
      "outputs": [
        {
          "output_type": "stream",
          "name": "stdout",
          "text": [
            "[['YUGOSLAV', 'ECONOMY', 'WORSENED', 'IN', '1986', ',', 'BANK', 'DATA', 'SHOWS', 'National', 'Bank', 'economic', 'data', 'for', '1986', 'shows', 'that', 'Yugoslavia', \"'\", 's', 'trade', 'deficit', 'grew', ',', 'the', 'inflation', 'rate', 'rose', ',', 'wages', 'were', 'sharply', 'higher', ',', 'the', 'money', 'supply', 'expanded', 'and', 'the', 'value', 'of', 'the', 'dinar', 'fell', '.'], ['The', 'trade', 'deficit', 'for', '1986', 'was', '2', '.', '012', 'billion', 'dlrs', ',', '25', '.', '7', 'pct', 'higher', 'than', 'in', '1985', '.'], ...]\n"
          ]
        }
      ],
      "source": [
        "print(reuters.sents(fileids=[\"test/16118\", \"test/18534\"]))"
      ]
    },
    {
      "cell_type": "markdown",
      "source": [
        "# Semántica: sinónimos con WordNet"
      ],
      "metadata": {
        "id": "JPsDpzA8x-v7"
      }
    },
    {
      "cell_type": "code",
      "execution_count": null,
      "metadata": {
        "id": "scu_C7P5I-Dx",
        "colab": {
          "base_uri": "https://localhost:8080/"
        },
        "outputId": "29209608-4d14-4114-99ac-9083dc505e2c"
      },
      "outputs": [
        {
          "output_type": "stream",
          "name": "stdout",
          "text": [
            "Synset('get.v.25') \n",
            " get.v.25 receive as a retribution or punishment ['He got 5 years in prison'] \n",
            " v \n",
            " [Lemma('get.v.25.get'), Lemma('get.v.25.receive')] \n",
            "\n",
            "Synset('cash.v.01') \n",
            " cash.v.01 exchange for cash ['I cashed the check as soon as it arrived in the mail'] \n",
            " v \n",
            " [Lemma('cash.v.01.cash'), Lemma('cash.v.01.cash_in')] \n",
            "\n",
            "Synset('take_home.v.01') \n",
            " take_home.v.01 earn as a salary or wage ['How much does your wife take home after taxes and other deductions?'] \n",
            " v \n",
            " [Lemma('take_home.v.01.take_home'), Lemma('take_home.v.01.bring_home')] \n",
            "\n",
            "Synset('charge.v.03') \n",
            " charge.v.03 demand payment ['Will I get charged for this service?', 'We were billed for 4 nights in the hotel, although we stayed only 3 nights'] \n",
            " v \n",
            " [Lemma('charge.v.03.charge'), Lemma('charge.v.03.bill')] \n",
            "\n",
            "Synset('check_out.v.05') \n",
            " check_out.v.05 record, add up, and receive payment for items purchased ['She was checking out the apples that the customer had put on the conveyer belt'] \n",
            " v \n",
            " [Lemma('check_out.v.05.check_out')] \n",
            "\n"
          ]
        },
        {
          "output_type": "stream",
          "name": "stderr",
          "text": [
            "[nltk_data] Downloading package wordnet to /root/nltk_data...\n",
            "[nltk_data]   Package wordnet is already up-to-date!\n",
            "[nltk_data] Downloading package omw-1.4 to /root/nltk_data...\n",
            "[nltk_data]   Package omw-1.4 is already up-to-date!\n"
          ]
        }
      ],
      "source": [
        "from nltk.corpus import wordnet as wn\n",
        "nltk.download(\"wordnet\")\n",
        "nltk.download(\"omw-1.4\")\n",
        "palabra = \"cobrar\"\n",
        "sinonimos = wn.synsets(palabra, lang=\"spa\")\n",
        "for sinonimo in sinonimos:\n",
        "  print(sinonimo, \"\\n\", sinonimo.name(), sinonimo.definition(), sinonimo.examples(), \"\\n\", sinonimo.pos(), \"\\n\", sinonimo.lemmas(lang=\"eng\"), \"\\n\",)"
      ]
    },
    {
      "cell_type": "markdown",
      "source": [
        "# Detalles Semánticos"
      ],
      "metadata": {
        "id": "kOWCPz86DXbP"
      }
    },
    {
      "cell_type": "code",
      "execution_count": null,
      "metadata": {
        "id": "Z6_iT__oI-Dy"
      },
      "outputs": [],
      "source": []
    }
  ],
  "metadata": {
    "anaconda-cloud": {},
    "kernelspec": {
      "display_name": "Python 3",
      "language": "python",
      "name": "python3"
    },
    "language_info": {
      "codemirror_mode": {
        "name": "ipython",
        "version": 3
      },
      "file_extension": ".py",
      "mimetype": "text/x-python",
      "name": "python",
      "nbconvert_exporter": "python",
      "pygments_lexer": "ipython3",
      "version": "3.6.5"
    },
    "colab": {
      "provenance": [],
      "collapsed_sections": [
        "2JH-4_BSDz72",
        "gQOq3mk_zMJi"
      ],
      "include_colab_link": true
    }
  },
  "nbformat": 4,
  "nbformat_minor": 0
}